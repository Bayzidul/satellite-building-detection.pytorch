{
 "cells": [
  {
   "cell_type": "markdown",
   "metadata": {},
   "source": [
    "# Residential Building Classification\n",
    "This is a bare-bone version of the residential vs. non-residential building classification. We use DenseNet in this implementation. "
   ]
  },
  {
   "cell_type": "code",
   "execution_count": 1,
   "metadata": {},
   "outputs": [],
   "source": [
    "import torch\n",
    "import torch.nn as nn\n",
    "import torch.optim as optim\n",
    "from torch.autograd import Variable\n",
    "from torch.utils.data import DataLoader\n",
    "from torch.utils.data import TensorDataset\n",
    "from torchvision import transforms\n",
    "import numpy as np\n",
    "import cv2\n",
    "import matplotlib.pyplot as plt\n",
    "\n",
    "import params\n",
    "from densenet_efficient import DenseNetEfficient\n",
    "from solver import *\n",
    "from dataset import *\n",
    "from visualize import *\n",
    "\n",
    "# Load parameters\n",
    "params = vars(params)\n",
    "rbc_class_names = params['rbc_class_names']\n",
    "fmow_class_names = params['fmow_class_names']\n",
    "fmow_class_names_mini = params['fmow_class_names_mini']\n",
    "dtype = params['dtype']\n",
    "\n",
    "torch.set_num_threads(params['num_threads'])"
   ]
  },
  {
   "cell_type": "markdown",
   "metadata": {},
   "source": [
    "## Preprocess FMOW Dataset\n",
    "Check if fMoW dataset is available. If so, process the images by cropping based on given bounding boxes. Load in traing, validation and test dataset along with ground truth labels for training and validation set. "
   ]
  },
  {
   "cell_type": "code",
   "execution_count": 2,
   "metadata": {},
   "outputs": [
    {
     "name": "stdout",
     "output_type": "stream",
     "text": [
      "Number of Training/Validation Images: 11833\n",
      "<class 'torch.Tensor'> torch.Size([1, 224, 224]) <class 'torch.Tensor'> torch.Size([1])\n"
     ]
    }
   ],
   "source": [
    "# Wake Data Transformation\n",
    "# train_transforms = transforms.Compose([\n",
    "#     transforms.RandomHorizontalFlip(),\n",
    "#     transforms.RandomVerticalFlip(),\n",
    "#     transforms.RandomResizedCrop(224, scale=(0.7, 1.0), ratio=(3/4, 4/3)),\n",
    "#     transforms.ToTensor(),\n",
    "# ])\n",
    "# fMoW Data Transformation\n",
    "train_transforms = transforms.Compose([\n",
    "    transforms.RandomHorizontalFlip(),\n",
    "    transforms.RandomVerticalFlip(),\n",
    "    transforms.RandomResizedCrop(224, scale=(0.9, 1.0), ratio=(4/5, 5/4)),\n",
    "    transforms.ToTensor(),\n",
    "])\n",
    "train_set = FMOWDataset(params, transform=train_transforms)\n",
    "print(\"Number of Training/Validation Images: %i\" % len(train_set))\n",
    "x,y = train_set[0]\n",
    "print(type(x), x.shape, type(y), y.shape)"
   ]
  },
  {
   "cell_type": "code",
   "execution_count": 3,
   "metadata": {},
   "outputs": [
    {
     "name": "stdout",
     "output_type": "stream",
     "text": [
      "Number of Testing Images: 240\n"
     ]
    },
    {
     "ename": "KeyError",
     "evalue": "'category'",
     "output_type": "error",
     "traceback": [
      "\u001b[0;31m----------------------------------------------------------\u001b[0m",
      "\u001b[0;31mKeyError\u001b[0m                 Traceback (most recent call last)",
      "\u001b[0;32m<ipython-input-3-74d544f27ab4>\u001b[0m in \u001b[0;36m<module>\u001b[0;34m\u001b[0m\n\u001b[1;32m      5\u001b[0m \u001b[0mtest_set\u001b[0m \u001b[0;34m=\u001b[0m \u001b[0mFMOWDataset\u001b[0m\u001b[0;34m(\u001b[0m\u001b[0mparams\u001b[0m\u001b[0;34m,\u001b[0m \u001b[0mtransform\u001b[0m\u001b[0;34m=\u001b[0m\u001b[0mtest_transforms\u001b[0m\u001b[0;34m,\u001b[0m \u001b[0mtrain\u001b[0m\u001b[0;34m=\u001b[0m\u001b[0;32mFalse\u001b[0m\u001b[0;34m)\u001b[0m\u001b[0;34m\u001b[0m\u001b[0m\n\u001b[1;32m      6\u001b[0m \u001b[0mprint\u001b[0m\u001b[0;34m(\u001b[0m\u001b[0;34m\"Number of Testing Images: %i\"\u001b[0m \u001b[0;34m%\u001b[0m \u001b[0mlen\u001b[0m\u001b[0;34m(\u001b[0m\u001b[0mtest_set\u001b[0m\u001b[0;34m)\u001b[0m\u001b[0;34m)\u001b[0m\u001b[0;34m\u001b[0m\u001b[0m\n\u001b[0;32m----> 7\u001b[0;31m \u001b[0mx\u001b[0m\u001b[0;34m,\u001b[0m\u001b[0my\u001b[0m \u001b[0;34m=\u001b[0m \u001b[0mtest_set\u001b[0m\u001b[0;34m[\u001b[0m\u001b[0;36m0\u001b[0m\u001b[0;34m]\u001b[0m\u001b[0;34m\u001b[0m\u001b[0m\n\u001b[0m\u001b[1;32m      8\u001b[0m \u001b[0mprint\u001b[0m\u001b[0;34m(\u001b[0m\u001b[0mtype\u001b[0m\u001b[0;34m(\u001b[0m\u001b[0mx\u001b[0m\u001b[0;34m)\u001b[0m\u001b[0;34m,\u001b[0m \u001b[0mx\u001b[0m\u001b[0;34m.\u001b[0m\u001b[0mshape\u001b[0m\u001b[0;34m,\u001b[0m \u001b[0mtype\u001b[0m\u001b[0;34m(\u001b[0m\u001b[0my\u001b[0m\u001b[0;34m)\u001b[0m\u001b[0;34m,\u001b[0m \u001b[0my\u001b[0m\u001b[0;34m.\u001b[0m\u001b[0mshape\u001b[0m\u001b[0;34m)\u001b[0m\u001b[0;34m\u001b[0m\u001b[0m\n",
      "\u001b[0;32m~/code/satellite-building-detection.pytorch/dataset.py\u001b[0m in \u001b[0;36m__getitem__\u001b[0;34m(self, idx)\u001b[0m\n\u001b[1;32m    106\u001b[0m         \u001b[0;31m#     label[0] = 0\u001b[0m\u001b[0;34m\u001b[0m\u001b[0;34m\u001b[0m\u001b[0m\n\u001b[1;32m    107\u001b[0m         \u001b[0;31m# Train harder on 20 categories\u001b[0m\u001b[0;34m\u001b[0m\u001b[0;34m\u001b[0m\u001b[0m\n\u001b[0;32m--> 108\u001b[0;31m         \u001b[0mlabel\u001b[0m\u001b[0;34m[\u001b[0m\u001b[0;36m0\u001b[0m\u001b[0;34m]\u001b[0m \u001b[0;34m=\u001b[0m \u001b[0mself\u001b[0m\u001b[0;34m.\u001b[0m\u001b[0mparams\u001b[0m\u001b[0;34m[\u001b[0m\u001b[0;34m'fmow_class_names_mini'\u001b[0m\u001b[0;34m]\u001b[0m\u001b[0;34m.\u001b[0m\u001b[0mindex\u001b[0m\u001b[0;34m(\u001b[0m\u001b[0mbb\u001b[0m\u001b[0;34m[\u001b[0m\u001b[0;34m'category'\u001b[0m\u001b[0;34m]\u001b[0m\u001b[0;34m)\u001b[0m\u001b[0;34m\u001b[0m\u001b[0m\n\u001b[0m\u001b[1;32m    109\u001b[0m \u001b[0;34m\u001b[0m\u001b[0m\n\u001b[1;32m    110\u001b[0m         \u001b[0;32mif\u001b[0m \u001b[0mself\u001b[0m\u001b[0;34m.\u001b[0m\u001b[0mtransform\u001b[0m\u001b[0;34m:\u001b[0m\u001b[0;34m\u001b[0m\u001b[0m\n",
      "\u001b[0;31mKeyError\u001b[0m: 'category'"
     ]
    }
   ],
   "source": [
    "test_transforms = transforms.Compose([\n",
    "    transforms.Resize((224, 224)),\n",
    "    transforms.ToTensor(),\n",
    "])\n",
    "test_set = FMOWDataset(params, transform=test_transforms, train=False)\n",
    "print(\"Number of Testing Images: %i\" % len(test_set))\n",
    "x,y = test_set[0]\n",
    "print(type(x), x.shape, type(y), y.shape)"
   ]
  },
  {
   "cell_type": "markdown",
   "metadata": {},
   "source": [
    "### Visualize a small batch of data\n",
    "Plot a small batch of training images to get a sense of data"
   ]
  },
  {
   "cell_type": "code",
   "execution_count": 4,
   "metadata": {},
   "outputs": [
    {
     "ename": "KeyError",
     "evalue": "'category'",
     "output_type": "error",
     "traceback": [
      "\u001b[0;31m----------------------------------------------------------\u001b[0m",
      "\u001b[0;31mKeyError\u001b[0m                 Traceback (most recent call last)",
      "\u001b[0;32m<ipython-input-4-d825fa025d53>\u001b[0m in \u001b[0;36m<module>\u001b[0;34m\u001b[0m\n\u001b[1;32m      6\u001b[0m \u001b[0;34m\u001b[0m\u001b[0m\n\u001b[1;32m      7\u001b[0m \u001b[0;32mfor\u001b[0m \u001b[0mi\u001b[0m\u001b[0;34m,\u001b[0m \u001b[0midx\u001b[0m \u001b[0;32min\u001b[0m \u001b[0menumerate\u001b[0m\u001b[0;34m(\u001b[0m\u001b[0mindices\u001b[0m\u001b[0;34m)\u001b[0m\u001b[0;34m:\u001b[0m\u001b[0;34m\u001b[0m\u001b[0m\n\u001b[0;32m----> 8\u001b[0;31m     \u001b[0mimage\u001b[0m\u001b[0;34m,\u001b[0m \u001b[0mlabel\u001b[0m \u001b[0;34m=\u001b[0m \u001b[0mtest_set\u001b[0m\u001b[0;34m[\u001b[0m\u001b[0midx\u001b[0m\u001b[0;34m]\u001b[0m\u001b[0;34m\u001b[0m\u001b[0m\n\u001b[0m\u001b[1;32m      9\u001b[0m     \u001b[0mplt\u001b[0m\u001b[0;34m.\u001b[0m\u001b[0msubplot\u001b[0m\u001b[0;34m(\u001b[0m\u001b[0;36m1\u001b[0m\u001b[0;34m,\u001b[0m \u001b[0msize\u001b[0m\u001b[0;34m,\u001b[0m \u001b[0mi\u001b[0m \u001b[0;34m+\u001b[0m \u001b[0;36m1\u001b[0m\u001b[0;34m)\u001b[0m\u001b[0;34m\u001b[0m\u001b[0m\n\u001b[1;32m     10\u001b[0m     \u001b[0mplt\u001b[0m\u001b[0;34m.\u001b[0m\u001b[0mtitle\u001b[0m\u001b[0;34m(\u001b[0m\u001b[0mparams\u001b[0m\u001b[0;34m[\u001b[0m\u001b[0;34m'rbc_class_names'\u001b[0m\u001b[0;34m]\u001b[0m\u001b[0;34m[\u001b[0m\u001b[0mlabel\u001b[0m\u001b[0;34m[\u001b[0m\u001b[0;36m0\u001b[0m\u001b[0;34m]\u001b[0m\u001b[0;34m]\u001b[0m\u001b[0;34m)\u001b[0m\u001b[0;34m\u001b[0m\u001b[0m\n",
      "\u001b[0;32m~/code/satellite-building-detection.pytorch/dataset.py\u001b[0m in \u001b[0;36m__getitem__\u001b[0;34m(self, idx)\u001b[0m\n\u001b[1;32m    106\u001b[0m         \u001b[0;31m#     label[0] = 0\u001b[0m\u001b[0;34m\u001b[0m\u001b[0;34m\u001b[0m\u001b[0m\n\u001b[1;32m    107\u001b[0m         \u001b[0;31m# Train harder on 20 categories\u001b[0m\u001b[0;34m\u001b[0m\u001b[0;34m\u001b[0m\u001b[0m\n\u001b[0;32m--> 108\u001b[0;31m         \u001b[0mlabel\u001b[0m\u001b[0;34m[\u001b[0m\u001b[0;36m0\u001b[0m\u001b[0;34m]\u001b[0m \u001b[0;34m=\u001b[0m \u001b[0mself\u001b[0m\u001b[0;34m.\u001b[0m\u001b[0mparams\u001b[0m\u001b[0;34m[\u001b[0m\u001b[0;34m'fmow_class_names_mini'\u001b[0m\u001b[0;34m]\u001b[0m\u001b[0;34m.\u001b[0m\u001b[0mindex\u001b[0m\u001b[0;34m(\u001b[0m\u001b[0mbb\u001b[0m\u001b[0;34m[\u001b[0m\u001b[0;34m'category'\u001b[0m\u001b[0;34m]\u001b[0m\u001b[0;34m)\u001b[0m\u001b[0;34m\u001b[0m\u001b[0m\n\u001b[0m\u001b[1;32m    109\u001b[0m \u001b[0;34m\u001b[0m\u001b[0m\n\u001b[1;32m    110\u001b[0m         \u001b[0;32mif\u001b[0m \u001b[0mself\u001b[0m\u001b[0;34m.\u001b[0m\u001b[0mtransform\u001b[0m\u001b[0;34m:\u001b[0m\u001b[0;34m\u001b[0m\u001b[0m\n",
      "\u001b[0;31mKeyError\u001b[0m: 'category'"
     ]
    },
    {
     "data": {
      "text/plain": [
       "<Figure size 432x288 with 0 Axes>"
      ]
     },
     "metadata": {},
     "output_type": "display_data"
    }
   ],
   "source": [
    "# Sample a minibatch and show the images and captions\n",
    "size = 5\n",
    "indices = np.random.choice(len(test_set), size, replace=False)\n",
    "\n",
    "fig = plt.figure()\n",
    "\n",
    "for i, idx in enumerate(indices):\n",
    "    image, label = test_set[idx]\n",
    "    plt.subplot(1, size, i + 1)\n",
    "    plt.title(params['rbc_class_names'][label[0]])\n",
    "    plt.axis('off')\n",
    "    plt.imshow(image[0,:,:])\n",
    "    plt.gcf().set_size_inches(10, 10)\n",
    "    plt.show()"
   ]
  },
  {
   "cell_type": "markdown",
   "metadata": {},
   "source": [
    "## Load Model\n",
    "Load in DenseNet. Configure training parameters. "
   ]
  },
  {
   "cell_type": "code",
   "execution_count": 3,
   "metadata": {},
   "outputs": [
    {
     "name": "stdout",
     "output_type": "stream",
     "text": [
      "Total Parameters: 6968084\n"
     ]
    },
    {
     "name": "stderr",
     "output_type": "stream",
     "text": [
      "/home/yuansong/anaconda2/envs/rbc/lib/python3.6/site-packages/torch/nn/modules/container.py:16: UserWarning: nn.Container is deprecated. All of it's functionality is now implemented in nn.Module. Subclass that instead.\n",
      "  warnings.warn(\"nn.Container is deprecated. All of it's functionality \"\n"
     ]
    }
   ],
   "source": [
    "model = DenseNetEfficient(\n",
    "        growth_rate=32, \n",
    "        block_config=(6, 12, 24, 16), \n",
    "        compression=0.5,\n",
    "        num_init_features=64, \n",
    "        bn_size=4, \n",
    "        drop_rate=0,\n",
    "        num_classes=20, \n",
    "        small_inputs=False)\n",
    "# Move model to GPU\n",
    "model = model.cuda()\n",
    "# print(model)\n",
    "pytorch_total_params = sum(p.numel() for p in model.parameters() if p.requires_grad)\n",
    "print(\"Total Parameters: %i\" % pytorch_total_params)"
   ]
  },
  {
   "cell_type": "code",
   "execution_count": null,
   "metadata": {},
   "outputs": [],
   "source": [
    "# Modify the model to predict 2 categories\n",
    "# model.classifier = nn.Sequential(\n",
    "#               nn.Linear(1024, 128),\n",
    "#               nn.ReLU(),\n",
    "#               nn.Linear(128, 2))"
   ]
  },
  {
   "cell_type": "code",
   "execution_count": 12,
   "metadata": {},
   "outputs": [
    {
     "ename": "RuntimeError",
     "evalue": "Error(s) in loading state_dict for DenseNetEfficient:\n\tMissing key(s) in state_dict: \"features.denseblock1.denselayer1.norm2.weight\", \"features.denseblock1.denselayer1.norm2.bias\", \"features.denseblock1.denselayer1.norm2.running_mean\", \"features.denseblock1.denselayer1.norm2.running_var\", \"features.denseblock1.denselayer1.conv2.weight\", \"features.denseblock1.denselayer2.norm2.weight\", \"features.denseblock1.denselayer2.norm2.bias\", \"features.denseblock1.denselayer2.norm2.running_mean\", \"features.denseblock1.denselayer2.norm2.running_var\", \"features.denseblock1.denselayer2.conv2.weight\", \"features.denseblock1.denselayer3.norm2.weight\", \"features.denseblock1.denselayer3.norm2.bias\", \"features.denseblock1.denselayer3.norm2.running_mean\", \"features.denseblock1.denselayer3.norm2.running_var\", \"features.denseblock1.denselayer3.conv2.weight\", \"features.denseblock1.denselayer4.norm2.weight\", \"features.denseblock1.denselayer4.norm2.bias\", \"features.denseblock1.denselayer4.norm2.running_mean\", \"features.denseblock1.denselayer4.norm2.running_var\", \"features.denseblock1.denselayer4.conv2.weight\", \"features.denseblock1.denselayer5.norm2.weight\", \"features.denseblock1.denselayer5.norm2.bias\", \"features.denseblock1.denselayer5.norm2.running_mean\", \"features.denseblock1.denselayer5.norm2.running_var\", \"features.denseblock1.denselayer5.conv2.weight\", \"features.denseblock1.denselayer6.norm2.weight\", \"features.denseblock1.denselayer6.norm2.bias\", \"features.denseblock1.denselayer6.norm2.running_mean\", \"features.denseblock1.denselayer6.norm2.running_var\", \"features.denseblock1.denselayer6.conv2.weight\", \"features.denseblock2.denselayer1.norm2.weight\", \"features.denseblock2.denselayer1.norm2.bias\", \"features.denseblock2.denselayer1.norm2.running_mean\", \"features.denseblock2.denselayer1.norm2.running_var\", \"features.denseblock2.denselayer1.conv2.weight\", \"features.denseblock2.denselayer2.norm2.weight\", \"features.denseblock2.denselayer2.norm2.bias\", \"features.denseblock2.denselayer2.norm2.running_mean\", \"features.denseblock2.denselayer2.norm2.running_var\", \"features.denseblock2.denselayer2.conv2.weight\", \"features.denseblock2.denselayer3.norm2.weight\", \"features.denseblock2.denselayer3.norm2.bias\", \"features.denseblock2.denselayer3.norm2.running_mean\", \"features.denseblock2.denselayer3.norm2.running_var\", \"features.denseblock2.denselayer3.conv2.weight\", \"features.denseblock2.denselayer4.norm2.weight\", \"features.denseblock2.denselayer4.norm2.bias\", \"features.denseblock2.denselayer4.norm2.running_mean\", \"features.denseblock2.denselayer4.norm2.running_var\", \"features.denseblock2.denselayer4.conv2.weight\", \"features.denseblock2.denselayer5.norm2.weight\", \"features.denseblock2.denselayer5.norm2.bias\", \"features.denseblock2.denselayer5.norm2.running_mean\", \"features.denseblock2.denselayer5.norm2.running_var\", \"features.denseblock2.denselayer5.conv2.weight\", \"features.denseblock2.denselayer6.norm2.weight\", \"features.denseblock2.denselayer6.norm2.bias\", \"features.denseblock2.denselayer6.norm2.running_mean\", \"features.denseblock2.denselayer6.norm2.running_var\", \"features.denseblock2.denselayer6.conv2.weight\", \"features.denseblock2.denselayer7.norm2.weight\", \"features.denseblock2.denselayer7.norm2.bias\", \"features.denseblock2.denselayer7.norm2.running_mean\", \"features.denseblock2.denselayer7.norm2.running_var\", \"features.denseblock2.denselayer7.conv2.weight\", \"features.denseblock2.denselayer8.norm2.weight\", \"features.denseblock2.denselayer8.norm2.bias\", \"features.denseblock2.denselayer8.norm2.running_mean\", \"features.denseblock2.denselayer8.norm2.running_var\", \"features.denseblock2.denselayer8.conv2.weight\", \"features.denseblock2.denselayer9.norm2.weight\", \"features.denseblock2.denselayer9.norm2.bias\", \"features.denseblock2.denselayer9.norm2.running_mean\", \"features.denseblock2.denselayer9.norm2.running_var\", \"features.denseblock2.denselayer9.conv2.weight\", \"features.denseblock2.denselayer10.norm2.weight\", \"features.denseblock2.denselayer10.norm2.bias\", \"features.denseblock2.denselayer10.norm2.running_mean\", \"features.denseblock2.denselayer10.norm2.running_var\", \"features.denseblock2.denselayer10.conv2.weight\", \"features.denseblock2.denselayer11.norm2.weight\", \"features.denseblock2.denselayer11.norm2.bias\", \"features.denseblock2.denselayer11.norm2.running_mean\", \"features.denseblock2.denselayer11.norm2.running_var\", \"features.denseblock2.denselayer11.conv2.weight\", \"features.denseblock2.denselayer12.norm2.weight\", \"features.denseblock2.denselayer12.norm2.bias\", \"features.denseblock2.denselayer12.norm2.running_mean\", \"features.denseblock2.denselayer12.norm2.running_var\", \"features.denseblock2.denselayer12.conv2.weight\", \"features.denseblock3.denselayer1.norm2.weight\", \"features.denseblock3.denselayer1.norm2.bias\", \"features.denseblock3.denselayer1.norm2.running_mean\", \"features.denseblock3.denselayer1.norm2.running_var\", \"features.denseblock3.denselayer1.conv2.weight\", \"features.denseblock3.denselayer2.norm2.weight\", \"features.denseblock3.denselayer2.norm2.bias\", \"features.denseblock3.denselayer2.norm2.running_mean\", \"features.denseblock3.denselayer2.norm2.running_var\", \"features.denseblock3.denselayer2.conv2.weight\", \"features.denseblock3.denselayer3.norm2.weight\", \"features.denseblock3.denselayer3.norm2.bias\", \"features.denseblock3.denselayer3.norm2.running_mean\", \"features.denseblock3.denselayer3.norm2.running_var\", \"features.denseblock3.denselayer3.conv2.weight\", \"features.denseblock3.denselayer4.norm2.weight\", \"features.denseblock3.denselayer4.norm2.bias\", \"features.denseblock3.denselayer4.norm2.running_mean\", \"features.denseblock3.denselayer4.norm2.running_var\", \"features.denseblock3.denselayer4.conv2.weight\", \"features.denseblock3.denselayer5.norm2.weight\", \"features.denseblock3.denselayer5.norm2.bias\", \"features.denseblock3.denselayer5.norm2.running_mean\", \"features.denseblock3.denselayer5.norm2.running_var\", \"features.denseblock3.denselayer5.conv2.weight\", \"features.denseblock3.denselayer6.norm2.weight\", \"features.denseblock3.denselayer6.norm2.bias\", \"features.denseblock3.denselayer6.norm2.running_mean\", \"features.denseblock3.denselayer6.norm2.running_var\", \"features.denseblock3.denselayer6.conv2.weight\", \"features.denseblock3.denselayer7.norm2.weight\", \"features.denseblock3.denselayer7.norm2.bias\", \"features.denseblock3.denselayer7.norm2.running_mean\", \"features.denseblock3.denselayer7.norm2.running_var\", \"features.denseblock3.denselayer7.conv2.weight\", \"features.denseblock3.denselayer8.norm2.weight\", \"features.denseblock3.denselayer8.norm2.bias\", \"features.denseblock3.denselayer8.norm2.running_mean\", \"features.denseblock3.denselayer8.norm2.running_var\", \"features.denseblock3.denselayer8.conv2.weight\", \"features.denseblock3.denselayer9.norm2.weight\", \"features.denseblock3.denselayer9.norm2.bias\", \"features.denseblock3.denselayer9.norm2.running_mean\", \"features.denseblock3.denselayer9.norm2.running_var\", \"features.denseblock3.denselayer9.conv2.weight\", \"features.denseblock3.denselayer10.norm2.weight\", \"features.denseblock3.denselayer10.norm2.bias\", \"features.denseblock3.denselayer10.norm2.running_mean\", \"features.denseblock3.denselayer10.norm2.running_var\", \"features.denseblock3.denselayer10.conv2.weight\", \"features.denseblock3.denselayer11.norm2.weight\", \"features.denseblock3.denselayer11.norm2.bias\", \"features.denseblock3.denselayer11.norm2.running_mean\", \"features.denseblock3.denselayer11.norm2.running_var\", \"features.denseblock3.denselayer11.conv2.weight\", \"features.denseblock3.denselayer12.norm2.weight\", \"features.denseblock3.denselayer12.norm2.bias\", \"features.denseblock3.denselayer12.norm2.running_mean\", \"features.denseblock3.denselayer12.norm2.running_var\", \"features.denseblock3.denselayer12.conv2.weight\", \"features.denseblock3.denselayer13.norm2.weight\", \"features.denseblock3.denselayer13.norm2.bias\", \"features.denseblock3.denselayer13.norm2.running_mean\", \"features.denseblock3.denselayer13.norm2.running_var\", \"features.denseblock3.denselayer13.conv2.weight\", \"features.denseblock3.denselayer14.norm2.weight\", \"features.denseblock3.denselayer14.norm2.bias\", \"features.denseblock3.denselayer14.norm2.running_mean\", \"features.denseblock3.denselayer14.norm2.running_var\", \"features.denseblock3.denselayer14.conv2.weight\", \"features.denseblock3.denselayer15.norm2.weight\", \"features.denseblock3.denselayer15.norm2.bias\", \"features.denseblock3.denselayer15.norm2.running_mean\", \"features.denseblock3.denselayer15.norm2.running_var\", \"features.denseblock3.denselayer15.conv2.weight\", \"features.denseblock3.denselayer16.norm2.weight\", \"features.denseblock3.denselayer16.norm2.bias\", \"features.denseblock3.denselayer16.norm2.running_mean\", \"features.denseblock3.denselayer16.norm2.running_var\", \"features.denseblock3.denselayer16.conv2.weight\", \"features.denseblock3.denselayer17.norm2.weight\", \"features.denseblock3.denselayer17.norm2.bias\", \"features.denseblock3.denselayer17.norm2.running_mean\", \"features.denseblock3.denselayer17.norm2.running_var\", \"features.denseblock3.denselayer17.conv2.weight\", \"features.denseblock3.denselayer18.norm2.weight\", \"features.denseblock3.denselayer18.norm2.bias\", \"features.denseblock3.denselayer18.norm2.running_mean\", \"features.denseblock3.denselayer18.norm2.running_var\", \"features.denseblock3.denselayer18.conv2.weight\", \"features.denseblock3.denselayer19.norm2.weight\", \"features.denseblock3.denselayer19.norm2.bias\", \"features.denseblock3.denselayer19.norm2.running_mean\", \"features.denseblock3.denselayer19.norm2.running_var\", \"features.denseblock3.denselayer19.conv2.weight\", \"features.denseblock3.denselayer20.norm2.weight\", \"features.denseblock3.denselayer20.norm2.bias\", \"features.denseblock3.denselayer20.norm2.running_mean\", \"features.denseblock3.denselayer20.norm2.running_var\", \"features.denseblock3.denselayer20.conv2.weight\", \"features.denseblock3.denselayer21.norm2.weight\", \"features.denseblock3.denselayer21.norm2.bias\", \"features.denseblock3.denselayer21.norm2.running_mean\", \"features.denseblock3.denselayer21.norm2.running_var\", \"features.denseblock3.denselayer21.conv2.weight\", \"features.denseblock3.denselayer22.norm2.weight\", \"features.denseblock3.denselayer22.norm2.bias\", \"features.denseblock3.denselayer22.norm2.running_mean\", \"features.denseblock3.denselayer22.norm2.running_var\", \"features.denseblock3.denselayer22.conv2.weight\", \"features.denseblock3.denselayer23.norm2.weight\", \"features.denseblock3.denselayer23.norm2.bias\", \"features.denseblock3.denselayer23.norm2.running_mean\", \"features.denseblock3.denselayer23.norm2.running_var\", \"features.denseblock3.denselayer23.conv2.weight\", \"features.denseblock3.denselayer24.norm2.weight\", \"features.denseblock3.denselayer24.norm2.bias\", \"features.denseblock3.denselayer24.norm2.running_mean\", \"features.denseblock3.denselayer24.norm2.running_var\", \"features.denseblock3.denselayer24.conv2.weight\", \"features.denseblock4.denselayer1.norm2.weight\", \"features.denseblock4.denselayer1.norm2.bias\", \"features.denseblock4.denselayer1.norm2.running_mean\", \"features.denseblock4.denselayer1.norm2.running_var\", \"features.denseblock4.denselayer1.conv2.weight\", \"features.denseblock4.denselayer2.norm2.weight\", \"features.denseblock4.denselayer2.norm2.bias\", \"features.denseblock4.denselayer2.norm2.running_mean\", \"features.denseblock4.denselayer2.norm2.running_var\", \"features.denseblock4.denselayer2.conv2.weight\", \"features.denseblock4.denselayer3.norm2.weight\", \"features.denseblock4.denselayer3.norm2.bias\", \"features.denseblock4.denselayer3.norm2.running_mean\", \"features.denseblock4.denselayer3.norm2.running_var\", \"features.denseblock4.denselayer3.conv2.weight\", \"features.denseblock4.denselayer4.norm2.weight\", \"features.denseblock4.denselayer4.norm2.bias\", \"features.denseblock4.denselayer4.norm2.running_mean\", \"features.denseblock4.denselayer4.norm2.running_var\", \"features.denseblock4.denselayer4.conv2.weight\", \"features.denseblock4.denselayer5.norm2.weight\", \"features.denseblock4.denselayer5.norm2.bias\", \"features.denseblock4.denselayer5.norm2.running_mean\", \"features.denseblock4.denselayer5.norm2.running_var\", \"features.denseblock4.denselayer5.conv2.weight\", \"features.denseblock4.denselayer6.norm2.weight\", \"features.denseblock4.denselayer6.norm2.bias\", \"features.denseblock4.denselayer6.norm2.running_mean\", \"features.denseblock4.denselayer6.norm2.running_var\", \"features.denseblock4.denselayer6.conv2.weight\", \"features.denseblock4.denselayer7.norm2.weight\", \"features.denseblock4.denselayer7.norm2.bias\", \"features.denseblock4.denselayer7.norm2.running_mean\", \"features.denseblock4.denselayer7.norm2.running_var\", \"features.denseblock4.denselayer7.conv2.weight\", \"features.denseblock4.denselayer8.norm2.weight\", \"features.denseblock4.denselayer8.norm2.bias\", \"features.denseblock4.denselayer8.norm2.running_mean\", \"features.denseblock4.denselayer8.norm2.running_var\", \"features.denseblock4.denselayer8.conv2.weight\", \"features.denseblock4.denselayer9.norm2.weight\", \"features.denseblock4.denselayer9.norm2.bias\", \"features.denseblock4.denselayer9.norm2.running_mean\", \"features.denseblock4.denselayer9.norm2.running_var\", \"features.denseblock4.denselayer9.conv2.weight\", \"features.denseblock4.denselayer10.norm2.weight\", \"features.denseblock4.denselayer10.norm2.bias\", \"features.denseblock4.denselayer10.norm2.running_mean\", \"features.denseblock4.denselayer10.norm2.running_var\", \"features.denseblock4.denselayer10.conv2.weight\", \"features.denseblock4.denselayer11.norm2.weight\", \"features.denseblock4.denselayer11.norm2.bias\", \"features.denseblock4.denselayer11.norm2.running_mean\", \"features.denseblock4.denselayer11.norm2.running_var\", \"features.denseblock4.denselayer11.conv2.weight\", \"features.denseblock4.denselayer12.norm2.weight\", \"features.denseblock4.denselayer12.norm2.bias\", \"features.denseblock4.denselayer12.norm2.running_mean\", \"features.denseblock4.denselayer12.norm2.running_var\", \"features.denseblock4.denselayer12.conv2.weight\", \"features.denseblock4.denselayer13.norm2.weight\", \"features.denseblock4.denselayer13.norm2.bias\", \"features.denseblock4.denselayer13.norm2.running_mean\", \"features.denseblock4.denselayer13.norm2.running_var\", \"features.denseblock4.denselayer13.conv2.weight\", \"features.denseblock4.denselayer14.norm2.weight\", \"features.denseblock4.denselayer14.norm2.bias\", \"features.denseblock4.denselayer14.norm2.running_mean\", \"features.denseblock4.denselayer14.norm2.running_var\", \"features.denseblock4.denselayer14.conv2.weight\", \"features.denseblock4.denselayer15.norm2.weight\", \"features.denseblock4.denselayer15.norm2.bias\", \"features.denseblock4.denselayer15.norm2.running_mean\", \"features.denseblock4.denselayer15.norm2.running_var\", \"features.denseblock4.denselayer15.conv2.weight\", \"features.denseblock4.denselayer16.norm2.weight\", \"features.denseblock4.denselayer16.norm2.bias\", \"features.denseblock4.denselayer16.norm2.running_mean\", \"features.denseblock4.denselayer16.norm2.running_var\", \"features.denseblock4.denselayer16.conv2.weight\". \n\tUnexpected key(s) in state_dict: \"features.denseblock1.denselayer1.norm.2.weight\", \"features.denseblock1.denselayer1.norm.2.bias\", \"features.denseblock1.denselayer1.norm.2.running_mean\", \"features.denseblock1.denselayer1.norm.2.running_var\", \"features.denseblock1.denselayer1.conv.2.weight\", \"features.denseblock1.denselayer2.norm.2.weight\", \"features.denseblock1.denselayer2.norm.2.bias\", \"features.denseblock1.denselayer2.norm.2.running_mean\", \"features.denseblock1.denselayer2.norm.2.running_var\", \"features.denseblock1.denselayer2.conv.2.weight\", \"features.denseblock1.denselayer3.norm.2.weight\", \"features.denseblock1.denselayer3.norm.2.bias\", \"features.denseblock1.denselayer3.norm.2.running_mean\", \"features.denseblock1.denselayer3.norm.2.running_var\", \"features.denseblock1.denselayer3.conv.2.weight\", \"features.denseblock1.denselayer4.norm.2.weight\", \"features.denseblock1.denselayer4.norm.2.bias\", \"features.denseblock1.denselayer4.norm.2.running_mean\", \"features.denseblock1.denselayer4.norm.2.running_var\", \"features.denseblock1.denselayer4.conv.2.weight\", \"features.denseblock1.denselayer5.norm.2.weight\", \"features.denseblock1.denselayer5.norm.2.bias\", \"features.denseblock1.denselayer5.norm.2.running_mean\", \"features.denseblock1.denselayer5.norm.2.running_var\", \"features.denseblock1.denselayer5.conv.2.weight\", \"features.denseblock1.denselayer6.norm.2.weight\", \"features.denseblock1.denselayer6.norm.2.bias\", \"features.denseblock1.denselayer6.norm.2.running_mean\", \"features.denseblock1.denselayer6.norm.2.running_var\", \"features.denseblock1.denselayer6.conv.2.weight\", \"features.denseblock2.denselayer1.norm.2.weight\", \"features.denseblock2.denselayer1.norm.2.bias\", \"features.denseblock2.denselayer1.norm.2.running_mean\", \"features.denseblock2.denselayer1.norm.2.running_var\", \"features.denseblock2.denselayer1.conv.2.weight\", \"features.denseblock2.denselayer2.norm.2.weight\", \"features.denseblock2.denselayer2.norm.2.bias\", \"features.denseblock2.denselayer2.norm.2.running_mean\", \"features.denseblock2.denselayer2.norm.2.running_var\", \"features.denseblock2.denselayer2.conv.2.weight\", \"features.denseblock2.denselayer3.norm.2.weight\", \"features.denseblock2.denselayer3.norm.2.bias\", \"features.denseblock2.denselayer3.norm.2.running_mean\", \"features.denseblock2.denselayer3.norm.2.running_var\", \"features.denseblock2.denselayer3.conv.2.weight\", \"features.denseblock2.denselayer4.norm.2.weight\", \"features.denseblock2.denselayer4.norm.2.bias\", \"features.denseblock2.denselayer4.norm.2.running_mean\", \"features.denseblock2.denselayer4.norm.2.running_var\", \"features.denseblock2.denselayer4.conv.2.weight\", \"features.denseblock2.denselayer5.norm.2.weight\", \"features.denseblock2.denselayer5.norm.2.bias\", \"features.denseblock2.denselayer5.norm.2.running_mean\", \"features.denseblock2.denselayer5.norm.2.running_var\", \"features.denseblock2.denselayer5.conv.2.weight\", \"features.denseblock2.denselayer6.norm.2.weight\", \"features.denseblock2.denselayer6.norm.2.bias\", \"features.denseblock2.denselayer6.norm.2.running_mean\", \"features.denseblock2.denselayer6.norm.2.running_var\", \"features.denseblock2.denselayer6.conv.2.weight\", \"features.denseblock2.denselayer7.norm.2.weight\", \"features.denseblock2.denselayer7.norm.2.bias\", \"features.denseblock2.denselayer7.norm.2.running_mean\", \"features.denseblock2.denselayer7.norm.2.running_var\", \"features.denseblock2.denselayer7.conv.2.weight\", \"features.denseblock2.denselayer8.norm.2.weight\", \"features.denseblock2.denselayer8.norm.2.bias\", \"features.denseblock2.denselayer8.norm.2.running_mean\", \"features.denseblock2.denselayer8.norm.2.running_var\", \"features.denseblock2.denselayer8.conv.2.weight\", \"features.denseblock2.denselayer9.norm.2.weight\", \"features.denseblock2.denselayer9.norm.2.bias\", \"features.denseblock2.denselayer9.norm.2.running_mean\", \"features.denseblock2.denselayer9.norm.2.running_var\", \"features.denseblock2.denselayer9.conv.2.weight\", \"features.denseblock2.denselayer10.norm.2.weight\", \"features.denseblock2.denselayer10.norm.2.bias\", \"features.denseblock2.denselayer10.norm.2.running_mean\", \"features.denseblock2.denselayer10.norm.2.running_var\", \"features.denseblock2.denselayer10.conv.2.weight\", \"features.denseblock2.denselayer11.norm.2.weight\", \"features.denseblock2.denselayer11.norm.2.bias\", \"features.denseblock2.denselayer11.norm.2.running_mean\", \"features.denseblock2.denselayer11.norm.2.running_var\", \"features.denseblock2.denselayer11.conv.2.weight\", \"features.denseblock2.denselayer12.norm.2.weight\", \"features.denseblock2.denselayer12.norm.2.bias\", \"features.denseblock2.denselayer12.norm.2.running_mean\", \"features.denseblock2.denselayer12.norm.2.running_var\", \"features.denseblock2.denselayer12.conv.2.weight\", \"features.denseblock3.denselayer1.norm.2.weight\", \"features.denseblock3.denselayer1.norm.2.bias\", \"features.denseblock3.denselayer1.norm.2.running_mean\", \"features.denseblock3.denselayer1.norm.2.running_var\", \"features.denseblock3.denselayer1.conv.2.weight\", \"features.denseblock3.denselayer2.norm.2.weight\", \"features.denseblock3.denselayer2.norm.2.bias\", \"features.denseblock3.denselayer2.norm.2.running_mean\", \"features.denseblock3.denselayer2.norm.2.running_var\", \"features.denseblock3.denselayer2.conv.2.weight\", \"features.denseblock3.denselayer3.norm.2.weight\", \"features.denseblock3.denselayer3.norm.2.bias\", \"features.denseblock3.denselayer3.norm.2.running_mean\", \"features.denseblock3.denselayer3.norm.2.running_var\", \"features.denseblock3.denselayer3.conv.2.weight\", \"features.denseblock3.denselayer4.norm.2.weight\", \"features.denseblock3.denselayer4.norm.2.bias\", \"features.denseblock3.denselayer4.norm.2.running_mean\", \"features.denseblock3.denselayer4.norm.2.running_var\", \"features.denseblock3.denselayer4.conv.2.weight\", \"features.denseblock3.denselayer5.norm.2.weight\", \"features.denseblock3.denselayer5.norm.2.bias\", \"features.denseblock3.denselayer5.norm.2.running_mean\", \"features.denseblock3.denselayer5.norm.2.running_var\", \"features.denseblock3.denselayer5.conv.2.weight\", \"features.denseblock3.denselayer6.norm.2.weight\", \"features.denseblock3.denselayer6.norm.2.bias\", \"features.denseblock3.denselayer6.norm.2.running_mean\", \"features.denseblock3.denselayer6.norm.2.running_var\", \"features.denseblock3.denselayer6.conv.2.weight\", \"features.denseblock3.denselayer7.norm.2.weight\", \"features.denseblock3.denselayer7.norm.2.bias\", \"features.denseblock3.denselayer7.norm.2.running_mean\", \"features.denseblock3.denselayer7.norm.2.running_var\", \"features.denseblock3.denselayer7.conv.2.weight\", \"features.denseblock3.denselayer8.norm.2.weight\", \"features.denseblock3.denselayer8.norm.2.bias\", \"features.denseblock3.denselayer8.norm.2.running_mean\", \"features.denseblock3.denselayer8.norm.2.running_var\", \"features.denseblock3.denselayer8.conv.2.weight\", \"features.denseblock3.denselayer9.norm.2.weight\", \"features.denseblock3.denselayer9.norm.2.bias\", \"features.denseblock3.denselayer9.norm.2.running_mean\", \"features.denseblock3.denselayer9.norm.2.running_var\", \"features.denseblock3.denselayer9.conv.2.weight\", \"features.denseblock3.denselayer10.norm.2.weight\", \"features.denseblock3.denselayer10.norm.2.bias\", \"features.denseblock3.denselayer10.norm.2.running_mean\", \"features.denseblock3.denselayer10.norm.2.running_var\", \"features.denseblock3.denselayer10.conv.2.weight\", \"features.denseblock3.denselayer11.norm.2.weight\", \"features.denseblock3.denselayer11.norm.2.bias\", \"features.denseblock3.denselayer11.norm.2.running_mean\", \"features.denseblock3.denselayer11.norm.2.running_var\", \"features.denseblock3.denselayer11.conv.2.weight\", \"features.denseblock3.denselayer12.norm.2.weight\", \"features.denseblock3.denselayer12.norm.2.bias\", \"features.denseblock3.denselayer12.norm.2.running_mean\", \"features.denseblock3.denselayer12.norm.2.running_var\", \"features.denseblock3.denselayer12.conv.2.weight\", \"features.denseblock3.denselayer13.norm.2.weight\", \"features.denseblock3.denselayer13.norm.2.bias\", \"features.denseblock3.denselayer13.norm.2.running_mean\", \"features.denseblock3.denselayer13.norm.2.running_var\", \"features.denseblock3.denselayer13.conv.2.weight\", \"features.denseblock3.denselayer14.norm.2.weight\", \"features.denseblock3.denselayer14.norm.2.bias\", \"features.denseblock3.denselayer14.norm.2.running_mean\", \"features.denseblock3.denselayer14.norm.2.running_var\", \"features.denseblock3.denselayer14.conv.2.weight\", \"features.denseblock3.denselayer15.norm.2.weight\", \"features.denseblock3.denselayer15.norm.2.bias\", \"features.denseblock3.denselayer15.norm.2.running_mean\", \"features.denseblock3.denselayer15.norm.2.running_var\", \"features.denseblock3.denselayer15.conv.2.weight\", \"features.denseblock3.denselayer16.norm.2.weight\", \"features.denseblock3.denselayer16.norm.2.bias\", \"features.denseblock3.denselayer16.norm.2.running_mean\", \"features.denseblock3.denselayer16.norm.2.running_var\", \"features.denseblock3.denselayer16.conv.2.weight\", \"features.denseblock3.denselayer17.norm.2.weight\", \"features.denseblock3.denselayer17.norm.2.bias\", \"features.denseblock3.denselayer17.norm.2.running_mean\", \"features.denseblock3.denselayer17.norm.2.running_var\", \"features.denseblock3.denselayer17.conv.2.weight\", \"features.denseblock3.denselayer18.norm.2.weight\", \"features.denseblock3.denselayer18.norm.2.bias\", \"features.denseblock3.denselayer18.norm.2.running_mean\", \"features.denseblock3.denselayer18.norm.2.running_var\", \"features.denseblock3.denselayer18.conv.2.weight\", \"features.denseblock3.denselayer19.norm.2.weight\", \"features.denseblock3.denselayer19.norm.2.bias\", \"features.denseblock3.denselayer19.norm.2.running_mean\", \"features.denseblock3.denselayer19.norm.2.running_var\", \"features.denseblock3.denselayer19.conv.2.weight\", \"features.denseblock3.denselayer20.norm.2.weight\", \"features.denseblock3.denselayer20.norm.2.bias\", \"features.denseblock3.denselayer20.norm.2.running_mean\", \"features.denseblock3.denselayer20.norm.2.running_var\", \"features.denseblock3.denselayer20.conv.2.weight\", \"features.denseblock3.denselayer21.norm.2.weight\", \"features.denseblock3.denselayer21.norm.2.bias\", \"features.denseblock3.denselayer21.norm.2.running_mean\", \"features.denseblock3.denselayer21.norm.2.running_var\", \"features.denseblock3.denselayer21.conv.2.weight\", \"features.denseblock3.denselayer22.norm.2.weight\", \"features.denseblock3.denselayer22.norm.2.bias\", \"features.denseblock3.denselayer22.norm.2.running_mean\", \"features.denseblock3.denselayer22.norm.2.running_var\", \"features.denseblock3.denselayer22.conv.2.weight\", \"features.denseblock3.denselayer23.norm.2.weight\", \"features.denseblock3.denselayer23.norm.2.bias\", \"features.denseblock3.denselayer23.norm.2.running_mean\", \"features.denseblock3.denselayer23.norm.2.running_var\", \"features.denseblock3.denselayer23.conv.2.weight\", \"features.denseblock3.denselayer24.norm.2.weight\", \"features.denseblock3.denselayer24.norm.2.bias\", \"features.denseblock3.denselayer24.norm.2.running_mean\", \"features.denseblock3.denselayer24.norm.2.running_var\", \"features.denseblock3.denselayer24.conv.2.weight\", \"features.denseblock4.denselayer1.norm.2.weight\", \"features.denseblock4.denselayer1.norm.2.bias\", \"features.denseblock4.denselayer1.norm.2.running_mean\", \"features.denseblock4.denselayer1.norm.2.running_var\", \"features.denseblock4.denselayer1.conv.2.weight\", \"features.denseblock4.denselayer2.norm.2.weight\", \"features.denseblock4.denselayer2.norm.2.bias\", \"features.denseblock4.denselayer2.norm.2.running_mean\", \"features.denseblock4.denselayer2.norm.2.running_var\", \"features.denseblock4.denselayer2.conv.2.weight\", \"features.denseblock4.denselayer3.norm.2.weight\", \"features.denseblock4.denselayer3.norm.2.bias\", \"features.denseblock4.denselayer3.norm.2.running_mean\", \"features.denseblock4.denselayer3.norm.2.running_var\", \"features.denseblock4.denselayer3.conv.2.weight\", \"features.denseblock4.denselayer4.norm.2.weight\", \"features.denseblock4.denselayer4.norm.2.bias\", \"features.denseblock4.denselayer4.norm.2.running_mean\", \"features.denseblock4.denselayer4.norm.2.running_var\", \"features.denseblock4.denselayer4.conv.2.weight\", \"features.denseblock4.denselayer5.norm.2.weight\", \"features.denseblock4.denselayer5.norm.2.bias\", \"features.denseblock4.denselayer5.norm.2.running_mean\", \"features.denseblock4.denselayer5.norm.2.running_var\", \"features.denseblock4.denselayer5.conv.2.weight\", \"features.denseblock4.denselayer6.norm.2.weight\", \"features.denseblock4.denselayer6.norm.2.bias\", \"features.denseblock4.denselayer6.norm.2.running_mean\", \"features.denseblock4.denselayer6.norm.2.running_var\", \"features.denseblock4.denselayer6.conv.2.weight\", \"features.denseblock4.denselayer7.norm.2.weight\", \"features.denseblock4.denselayer7.norm.2.bias\", \"features.denseblock4.denselayer7.norm.2.running_mean\", \"features.denseblock4.denselayer7.norm.2.running_var\", \"features.denseblock4.denselayer7.conv.2.weight\", \"features.denseblock4.denselayer8.norm.2.weight\", \"features.denseblock4.denselayer8.norm.2.bias\", \"features.denseblock4.denselayer8.norm.2.running_mean\", \"features.denseblock4.denselayer8.norm.2.running_var\", \"features.denseblock4.denselayer8.conv.2.weight\", \"features.denseblock4.denselayer9.norm.2.weight\", \"features.denseblock4.denselayer9.norm.2.bias\", \"features.denseblock4.denselayer9.norm.2.running_mean\", \"features.denseblock4.denselayer9.norm.2.running_var\", \"features.denseblock4.denselayer9.conv.2.weight\", \"features.denseblock4.denselayer10.norm.2.weight\", \"features.denseblock4.denselayer10.norm.2.bias\", \"features.denseblock4.denselayer10.norm.2.running_mean\", \"features.denseblock4.denselayer10.norm.2.running_var\", \"features.denseblock4.denselayer10.conv.2.weight\", \"features.denseblock4.denselayer11.norm.2.weight\", \"features.denseblock4.denselayer11.norm.2.bias\", \"features.denseblock4.denselayer11.norm.2.running_mean\", \"features.denseblock4.denselayer11.norm.2.running_var\", \"features.denseblock4.denselayer11.conv.2.weight\", \"features.denseblock4.denselayer12.norm.2.weight\", \"features.denseblock4.denselayer12.norm.2.bias\", \"features.denseblock4.denselayer12.norm.2.running_mean\", \"features.denseblock4.denselayer12.norm.2.running_var\", \"features.denseblock4.denselayer12.conv.2.weight\", \"features.denseblock4.denselayer13.norm.2.weight\", \"features.denseblock4.denselayer13.norm.2.bias\", \"features.denseblock4.denselayer13.norm.2.running_mean\", \"features.denseblock4.denselayer13.norm.2.running_var\", \"features.denseblock4.denselayer13.conv.2.weight\", \"features.denseblock4.denselayer14.norm.2.weight\", \"features.denseblock4.denselayer14.norm.2.bias\", \"features.denseblock4.denselayer14.norm.2.running_mean\", \"features.denseblock4.denselayer14.norm.2.running_var\", \"features.denseblock4.denselayer14.conv.2.weight\", \"features.denseblock4.denselayer15.norm.2.weight\", \"features.denseblock4.denselayer15.norm.2.bias\", \"features.denseblock4.denselayer15.norm.2.running_mean\", \"features.denseblock4.denselayer15.norm.2.running_var\", \"features.denseblock4.denselayer15.conv.2.weight\", \"features.denseblock4.denselayer16.norm.2.weight\", \"features.denseblock4.denselayer16.norm.2.bias\", \"features.denseblock4.denselayer16.norm.2.running_mean\", \"features.denseblock4.denselayer16.norm.2.running_var\", \"features.denseblock4.denselayer16.conv.2.weight\". ",
     "output_type": "error",
     "traceback": [
      "\u001b[0;31m----------------------------------------------------------\u001b[0m",
      "\u001b[0;31mRuntimeError\u001b[0m             Traceback (most recent call last)",
      "\u001b[0;32m<ipython-input-12-462727ad3c1e>\u001b[0m in \u001b[0;36m<module>\u001b[0;34m\u001b[0m\n\u001b[1;32m      1\u001b[0m \u001b[0;31m# Load an existing model trained on 20 categories\u001b[0m\u001b[0;34m\u001b[0m\u001b[0;34m\u001b[0m\u001b[0m\n\u001b[0;32m----> 2\u001b[0;31m \u001b[0mmodel\u001b[0m\u001b[0;34m.\u001b[0m\u001b[0mload_state_dict\u001b[0m\u001b[0;34m(\u001b[0m\u001b[0mtorch\u001b[0m\u001b[0;34m.\u001b[0m\u001b[0mload\u001b[0m\u001b[0;34m(\u001b[0m\u001b[0;34m'./models/cat_2_fmow_50000_pure_wake_12000/model.dat'\u001b[0m\u001b[0;34m)\u001b[0m\u001b[0;34m)\u001b[0m\u001b[0;34m\u001b[0m\u001b[0m\n\u001b[0m",
      "\u001b[0;32m~/anaconda2/envs/rbc/lib/python3.6/site-packages/torch/nn/modules/module.py\u001b[0m in \u001b[0;36mload_state_dict\u001b[0;34m(self, state_dict, strict)\u001b[0m\n\u001b[1;32m    767\u001b[0m         \u001b[0;32mif\u001b[0m \u001b[0mlen\u001b[0m\u001b[0;34m(\u001b[0m\u001b[0merror_msgs\u001b[0m\u001b[0;34m)\u001b[0m \u001b[0;34m>\u001b[0m \u001b[0;36m0\u001b[0m\u001b[0;34m:\u001b[0m\u001b[0;34m\u001b[0m\u001b[0m\n\u001b[1;32m    768\u001b[0m             raise RuntimeError('Error(s) in loading state_dict for {}:\\n\\t{}'.format(\n\u001b[0;32m--> 769\u001b[0;31m                                self.__class__.__name__, \"\\n\\t\".join(error_msgs)))\n\u001b[0m\u001b[1;32m    770\u001b[0m \u001b[0;34m\u001b[0m\u001b[0m\n\u001b[1;32m    771\u001b[0m     \u001b[0;32mdef\u001b[0m \u001b[0m_named_members\u001b[0m\u001b[0;34m(\u001b[0m\u001b[0mself\u001b[0m\u001b[0;34m,\u001b[0m \u001b[0mget_members_fn\u001b[0m\u001b[0;34m,\u001b[0m \u001b[0mprefix\u001b[0m\u001b[0;34m=\u001b[0m\u001b[0;34m''\u001b[0m\u001b[0;34m,\u001b[0m \u001b[0mrecurse\u001b[0m\u001b[0;34m=\u001b[0m\u001b[0;32mTrue\u001b[0m\u001b[0;34m)\u001b[0m\u001b[0;34m:\u001b[0m\u001b[0;34m\u001b[0m\u001b[0m\n",
      "\u001b[0;31mRuntimeError\u001b[0m: Error(s) in loading state_dict for DenseNetEfficient:\n\tMissing key(s) in state_dict: \"features.denseblock1.denselayer1.norm2.weight\", \"features.denseblock1.denselayer1.norm2.bias\", \"features.denseblock1.denselayer1.norm2.running_mean\", \"features.denseblock1.denselayer1.norm2.running_var\", \"features.denseblock1.denselayer1.conv2.weight\", \"features.denseblock1.denselayer2.norm2.weight\", \"features.denseblock1.denselayer2.norm2.bias\", \"features.denseblock1.denselayer2.norm2.running_mean\", \"features.denseblock1.denselayer2.norm2.running_var\", \"features.denseblock1.denselayer2.conv2.weight\", \"features.denseblock1.denselayer3.norm2.weight\", \"features.denseblock1.denselayer3.norm2.bias\", \"features.denseblock1.denselayer3.norm2.running_mean\", \"features.denseblock1.denselayer3.norm2.running_var\", \"features.denseblock1.denselayer3.conv2.weight\", \"features.denseblock1.denselayer4.norm2.weight\", \"features.denseblock1.denselayer4.norm2.bias\", \"features.denseblock1.denselayer4.norm2.running_mean\", \"features.denseblock1.denselayer4.norm2.running_var\", \"features.denseblock1.denselayer4.conv2.weight\", \"features.denseblock1.denselayer5.norm2.weight\", \"features.denseblock1.denselayer5.norm2.bias\", \"features.denseblock1.denselayer5.norm2.running_mean\", \"features.denseblock1.denselayer5.norm2.running_var\", \"features.denseblock1.denselayer5.conv2.weight\", \"features.denseblock1.denselayer6.norm2.weight\", \"features.denseblock1.denselayer6.norm2.bias\", \"features.denseblock1.denselayer6.norm2.running_mean\", \"features.denseblock1.denselayer6.norm2.running_var\", \"features.denseblock1.denselayer6.conv2.weight\", \"features.denseblock2.denselayer1.norm2.weight\", \"features.denseblock2.denselayer1.norm2.bias\", \"features.denseblock2.denselayer1.norm2.running_mean\", \"features.denseblock2.denselayer1.norm2.running_var\", \"features.denseblock2.denselayer1.conv2.weight\", \"features.denseblock2.denselayer2.norm2.weight\", \"features.denseblock2.denselayer2.norm2.bias\", \"features.denseblock2.denselayer2.norm2.running_mean\", \"features.denseblock2.denselayer2.norm2.running_var\", \"features.denseblock2.denselayer2.conv2.weight\", \"features.denseblock2.denselayer3.norm2.weight\", \"features.denseblock2.denselayer3.norm2.bias\", \"features.denseblock2.denselayer3.norm2.running_mean\", \"features.denseblock2.denselayer3.norm2.running_var\", \"features.denseblock2.denselayer3.conv2.weight\", \"features.denseblock2.denselayer4.norm2.weight\", \"features.denseblock2.denselayer4.norm2.bias\", \"features.denseblock2.denselayer4.norm2.running_mean\", \"features.denseblock2.denselayer4.norm2.running_var\", \"features.denseblock2.denselayer4.conv2.weight\", \"features.denseblock2.denselayer5.norm2.weight\", \"features.denseblock2.denselayer5.norm2.bias\", \"features.denseblock2.denselayer5.norm2.running_mean\", \"features.denseblock2.denselayer5.norm2.running_var\", \"features.denseblock2.denselayer5.conv2.weight\", \"features.denseblock2.denselayer6.norm2.weight\", \"features.denseblock2.denselayer6.norm2.bias\", \"features.denseblock2.denselayer6.norm2.running_mean\", \"features.denseblock2.denselayer6.norm2.running_var\", \"features.denseblock2.denselayer6.conv2.weight\", \"features.denseblock2.denselayer7.norm2.weight\", \"features.denseblock2.denselayer7.norm2.bias\", \"features.denseblock2.denselayer7.norm2.running_mean\", \"features.denseblock2.denselayer7.norm2.running_var\", \"features.denseblock2.denselayer7.conv2.weight\", \"features.denseblock2.denselayer8.norm2.weight\", \"features.denseblock2.denselayer8.norm2.bias\", \"features.denseblock2.denselayer8.norm2.running_mean\", \"features.denseblock2.denselayer8.norm2.running_var\", \"features.denseblock2.denselayer8.conv2.weight\", \"features.denseblock2.denselayer9.norm2.weight\", \"features.denseblock2.denselayer9.norm2.bias\", \"features.denseblock2.denselayer9.norm2.running_mean\", \"features.denseblock2.denselayer9.norm2.running_var\", \"features.denseblock2.denselayer9.conv2.weight\", \"features.denseblock2.denselayer10.norm2.weight\", \"features.denseblock2.denselayer10.norm2.bias\", \"features.denseblock2.denselayer10.norm2.running_mean\", \"features.denseblock2.denselayer10.norm2.running_var\", \"features.denseblock2.denselayer10.conv2.weight\", \"features.denseblock2.denselayer11.norm2.weight\", \"features.denseblock2.denselayer11.norm2.bias\", \"features.denseblock2.denselayer11.norm2.running_mean\", \"features.denseblock2.denselayer11.norm2.running_var\", \"features.denseblock2.denselayer11.conv2.weight\", \"features.denseblock2.denselayer12.norm2.weight\", \"features.denseblock2.denselayer12.norm2.bias\", \"features.denseblock2.denselayer12.norm2.running_mean\", \"features.denseblock2.denselayer12.norm2.running_var\", \"features.denseblock2.denselayer12.conv2.weight\", \"features.denseblock3.denselayer1.norm2.weight\", \"features.denseblock3.denselayer1.norm2.bias\", \"features.denseblock3.denselayer1.norm2.running_mean\", \"features.denseblock3.denselayer1.norm2.running_var\", \"features.denseblock3.denselayer1.conv2.weight\", \"features.denseblock3.denselayer2.norm2.weight\", \"features.denseblock3.denselayer2.norm2.bias\", \"features.denseblock3.denselayer2.norm2.running_mean\", \"features.denseblock3.denselayer2.norm2.running_var\", \"features.denseblock3.denselayer2.conv2.weight\", \"features.denseblock3.denselayer3.norm2.weight\", \"features.denseblock3.denselayer3.norm2.bias\", \"features.denseblock3.denselayer3.norm2.running_mean\", \"features.denseblock3.denselayer3.norm2.running_var\", \"features.denseblock3.denselayer3.conv2.weight\", \"features.denseblock3.denselayer4.norm2.weight\", \"features.denseblock3.denselayer4.norm2.bias\", \"features.denseblock3.denselayer4.norm2.running_mean\", \"features.denseblock3.denselayer4.norm2.running_var\", \"features.denseblock3.denselayer4.conv2.weight\", \"features.denseblock3.denselayer5.norm2.weight\", \"features.denseblock3.denselayer5.norm2.bias\", \"features.denseblock3.denselayer5.norm2.running_mean\", \"features.denseblock3.denselayer5.norm2.running_var\", \"features.denseblock3.denselayer5.conv2.weight\", \"features.denseblock3.denselayer6.norm2.weight\", \"features.denseblock3.denselayer6.norm2.bias\", \"features.denseblock3.denselayer6.norm2.running_mean\", \"features.denseblock3.denselayer6.norm2.running_var\", \"features.denseblock3.denselayer6.conv2.weight\", \"features.denseblock3.denselayer7.norm2.weight\", \"features.denseblock3.denselayer7.norm2.bias\", \"features.denseblock3.denselayer7.norm2.running_mean\", \"features.denseblock3.denselayer7.norm2.running_var\", \"features.denseblock3.denselayer7.conv2.weight\", \"features.denseblock3.denselayer8.norm2.weight\", \"features.denseblock3.denselayer8.norm2.bias\", \"features.denseblock3.denselayer8.norm2.running_mean\", \"features.denseblock3.denselayer8.norm2.running_var\", \"features.denseblock3.denselayer8.conv2.weight\", \"features.denseblock3.denselayer9.norm2.weight\", \"features.denseblock3.denselayer9.norm2.bias\", \"features.denseblock3.denselayer9.norm2.running_mean\", \"features.denseblock3.denselayer9.norm2.running_var\", \"features.denseblock3.denselayer9.conv2.weight\", \"features.denseblock3.denselayer10.norm2.weight\", \"features.denseblock3.denselayer10.norm2.bias\", \"features.denseblock3.denselayer10.norm2.running_mean\", \"features.denseblock3.denselayer10.norm2.running_var\", \"features.denseblock3.denselayer10.conv2.weight\", \"features.denseblock3.denselayer11.norm2.weight\", \"features.denseblock3.denselayer11.norm2.bias\", \"features.denseblock3.denselayer11.norm2.running_mean\", \"features.denseblock3.denselayer11.norm2.running_var\", \"features.denseblock3.denselayer11.conv2.weight\", \"features.denseblock3.denselayer12.norm2.weight\", \"features.denseblock3.denselayer12.norm2.bias\", \"features.denseblock3.denselayer12.norm2.running_mean\", \"features.denseblock3.denselayer12.norm2.running_var\", \"features.denseblock3.denselayer12.conv2.weight\", \"features.denseblock3.denselayer13.norm2.weight\", \"features.denseblock3.denselayer13.norm2.bias\", \"features.denseblock3.denselayer13.norm2.running_mean\", \"features.denseblock3.denselayer13.norm2.running_var\", \"features.denseblock3.denselayer13.conv2.weight\", \"features.denseblock3.denselayer14.norm2.weight\", \"features.denseblock3.denselayer14.norm2.bias\", \"features.denseblock3.denselayer14.norm2.running_mean\", \"features.denseblock3.denselayer14.norm2.running_var\", \"features.denseblock3.denselayer14.conv2.weight\", \"features.denseblock3.denselayer15.norm2.weight\", \"features.denseblock3.denselayer15.norm2.bias\", \"features.denseblock3.denselayer15.norm2.running_mean\", \"features.denseblock3.denselayer15.norm2.running_var\", \"features.denseblock3.denselayer15.conv2.weight\", \"features.denseblock3.denselayer16.norm2.weight\", \"features.denseblock3.denselayer16.norm2.bias\", \"features.denseblock3.denselayer16.norm2.running_mean\", \"features.denseblock3.denselayer16.norm2.running_var\", \"features.denseblock3.denselayer16.conv2.weight\", \"features.denseblock3.denselayer17.norm2.weight\", \"features.denseblock3.denselayer17.norm2.bias\", \"features.denseblock3.denselayer17.norm2.running_mean\", \"features.denseblock3.denselayer17.norm2.running_var\", \"features.denseblock3.denselayer17.conv2.weight\", \"features.denseblock3.denselayer18.norm2.weight\", \"features.denseblock3.denselayer18.norm2.bias\", \"features.denseblock3.denselayer18.norm2.running_mean\", \"features.denseblock3.denselayer18.norm2.running_var\", \"features.denseblock3.denselayer18.conv2.weight\", \"features.denseblock3.denselayer19.norm2.weight\", \"features.denseblock3.denselayer19.norm2.bias\", \"features.denseblock3.denselayer19.norm2.running_mean\", \"features.denseblock3.denselayer19.norm2.running_var\", \"features.denseblock3.denselayer19.conv2.weight\", \"features.denseblock3.denselayer20.norm2.weight\", \"features.denseblock3.denselayer20.norm2.bias\", \"features.denseblock3.denselayer20.norm2.running_mean\", \"features.denseblock3.denselayer20.norm2.running_var\", \"features.denseblock3.denselayer20.conv2.weight\", \"features.denseblock3.denselayer21.norm2.weight\", \"features.denseblock3.denselayer21.norm2.bias\", \"features.denseblock3.denselayer21.norm2.running_mean\", \"features.denseblock3.denselayer21.norm2.running_var\", \"features.denseblock3.denselayer21.conv2.weight\", \"features.denseblock3.denselayer22.norm2.weight\", \"features.denseblock3.denselayer22.norm2.bias\", \"features.denseblock3.denselayer22.norm2.running_mean\", \"features.denseblock3.denselayer22.norm2.running_var\", \"features.denseblock3.denselayer22.conv2.weight\", \"features.denseblock3.denselayer23.norm2.weight\", \"features.denseblock3.denselayer23.norm2.bias\", \"features.denseblock3.denselayer23.norm2.running_mean\", \"features.denseblock3.denselayer23.norm2.running_var\", \"features.denseblock3.denselayer23.conv2.weight\", \"features.denseblock3.denselayer24.norm2.weight\", \"features.denseblock3.denselayer24.norm2.bias\", \"features.denseblock3.denselayer24.norm2.running_mean\", \"features.denseblock3.denselayer24.norm2.running_var\", \"features.denseblock3.denselayer24.conv2.weight\", \"features.denseblock4.denselayer1.norm2.weight\", \"features.denseblock4.denselayer1.norm2.bias\", \"features.denseblock4.denselayer1.norm2.running_mean\", \"features.denseblock4.denselayer1.norm2.running_var\", \"features.denseblock4.denselayer1.conv2.weight\", \"features.denseblock4.denselayer2.norm2.weight\", \"features.denseblock4.denselayer2.norm2.bias\", \"features.denseblock4.denselayer2.norm2.running_mean\", \"features.denseblock4.denselayer2.norm2.running_var\", \"features.denseblock4.denselayer2.conv2.weight\", \"features.denseblock4.denselayer3.norm2.weight\", \"features.denseblock4.denselayer3.norm2.bias\", \"features.denseblock4.denselayer3.norm2.running_mean\", \"features.denseblock4.denselayer3.norm2.running_var\", \"features.denseblock4.denselayer3.conv2.weight\", \"features.denseblock4.denselayer4.norm2.weight\", \"features.denseblock4.denselayer4.norm2.bias\", \"features.denseblock4.denselayer4.norm2.running_mean\", \"features.denseblock4.denselayer4.norm2.running_var\", \"features.denseblock4.denselayer4.conv2.weight\", \"features.denseblock4.denselayer5.norm2.weight\", \"features.denseblock4.denselayer5.norm2.bias\", \"features.denseblock4.denselayer5.norm2.running_mean\", \"features.denseblock4.denselayer5.norm2.running_var\", \"features.denseblock4.denselayer5.conv2.weight\", \"features.denseblock4.denselayer6.norm2.weight\", \"features.denseblock4.denselayer6.norm2.bias\", \"features.denseblock4.denselayer6.norm2.running_mean\", \"features.denseblock4.denselayer6.norm2.running_var\", \"features.denseblock4.denselayer6.conv2.weight\", \"features.denseblock4.denselayer7.norm2.weight\", \"features.denseblock4.denselayer7.norm2.bias\", \"features.denseblock4.denselayer7.norm2.running_mean\", \"features.denseblock4.denselayer7.norm2.running_var\", \"features.denseblock4.denselayer7.conv2.weight\", \"features.denseblock4.denselayer8.norm2.weight\", \"features.denseblock4.denselayer8.norm2.bias\", \"features.denseblock4.denselayer8.norm2.running_mean\", \"features.denseblock4.denselayer8.norm2.running_var\", \"features.denseblock4.denselayer8.conv2.weight\", \"features.denseblock4.denselayer9.norm2.weight\", \"features.denseblock4.denselayer9.norm2.bias\", \"features.denseblock4.denselayer9.norm2.running_mean\", \"features.denseblock4.denselayer9.norm2.running_var\", \"features.denseblock4.denselayer9.conv2.weight\", \"features.denseblock4.denselayer10.norm2.weight\", \"features.denseblock4.denselayer10.norm2.bias\", \"features.denseblock4.denselayer10.norm2.running_mean\", \"features.denseblock4.denselayer10.norm2.running_var\", \"features.denseblock4.denselayer10.conv2.weight\", \"features.denseblock4.denselayer11.norm2.weight\", \"features.denseblock4.denselayer11.norm2.bias\", \"features.denseblock4.denselayer11.norm2.running_mean\", \"features.denseblock4.denselayer11.norm2.running_var\", \"features.denseblock4.denselayer11.conv2.weight\", \"features.denseblock4.denselayer12.norm2.weight\", \"features.denseblock4.denselayer12.norm2.bias\", \"features.denseblock4.denselayer12.norm2.running_mean\", \"features.denseblock4.denselayer12.norm2.running_var\", \"features.denseblock4.denselayer12.conv2.weight\", \"features.denseblock4.denselayer13.norm2.weight\", \"features.denseblock4.denselayer13.norm2.bias\", \"features.denseblock4.denselayer13.norm2.running_mean\", \"features.denseblock4.denselayer13.norm2.running_var\", \"features.denseblock4.denselayer13.conv2.weight\", \"features.denseblock4.denselayer14.norm2.weight\", \"features.denseblock4.denselayer14.norm2.bias\", \"features.denseblock4.denselayer14.norm2.running_mean\", \"features.denseblock4.denselayer14.norm2.running_var\", \"features.denseblock4.denselayer14.conv2.weight\", \"features.denseblock4.denselayer15.norm2.weight\", \"features.denseblock4.denselayer15.norm2.bias\", \"features.denseblock4.denselayer15.norm2.running_mean\", \"features.denseblock4.denselayer15.norm2.running_var\", \"features.denseblock4.denselayer15.conv2.weight\", \"features.denseblock4.denselayer16.norm2.weight\", \"features.denseblock4.denselayer16.norm2.bias\", \"features.denseblock4.denselayer16.norm2.running_mean\", \"features.denseblock4.denselayer16.norm2.running_var\", \"features.denseblock4.denselayer16.conv2.weight\". \n\tUnexpected key(s) in state_dict: \"features.denseblock1.denselayer1.norm.2.weight\", \"features.denseblock1.denselayer1.norm.2.bias\", \"features.denseblock1.denselayer1.norm.2.running_mean\", \"features.denseblock1.denselayer1.norm.2.running_var\", \"features.denseblock1.denselayer1.conv.2.weight\", \"features.denseblock1.denselayer2.norm.2.weight\", \"features.denseblock1.denselayer2.norm.2.bias\", \"features.denseblock1.denselayer2.norm.2.running_mean\", \"features.denseblock1.denselayer2.norm.2.running_var\", \"features.denseblock1.denselayer2.conv.2.weight\", \"features.denseblock1.denselayer3.norm.2.weight\", \"features.denseblock1.denselayer3.norm.2.bias\", \"features.denseblock1.denselayer3.norm.2.running_mean\", \"features.denseblock1.denselayer3.norm.2.running_var\", \"features.denseblock1.denselayer3.conv.2.weight\", \"features.denseblock1.denselayer4.norm.2.weight\", \"features.denseblock1.denselayer4.norm.2.bias\", \"features.denseblock1.denselayer4.norm.2.running_mean\", \"features.denseblock1.denselayer4.norm.2.running_var\", \"features.denseblock1.denselayer4.conv.2.weight\", \"features.denseblock1.denselayer5.norm.2.weight\", \"features.denseblock1.denselayer5.norm.2.bias\", \"features.denseblock1.denselayer5.norm.2.running_mean\", \"features.denseblock1.denselayer5.norm.2.running_var\", \"features.denseblock1.denselayer5.conv.2.weight\", \"features.denseblock1.denselayer6.norm.2.weight\", \"features.denseblock1.denselayer6.norm.2.bias\", \"features.denseblock1.denselayer6.norm.2.running_mean\", \"features.denseblock1.denselayer6.norm.2.running_var\", \"features.denseblock1.denselayer6.conv.2.weight\", \"features.denseblock2.denselayer1.norm.2.weight\", \"features.denseblock2.denselayer1.norm.2.bias\", \"features.denseblock2.denselayer1.norm.2.running_mean\", \"features.denseblock2.denselayer1.norm.2.running_var\", \"features.denseblock2.denselayer1.conv.2.weight\", \"features.denseblock2.denselayer2.norm.2.weight\", \"features.denseblock2.denselayer2.norm.2.bias\", \"features.denseblock2.denselayer2.norm.2.running_mean\", \"features.denseblock2.denselayer2.norm.2.running_var\", \"features.denseblock2.denselayer2.conv.2.weight\", \"features.denseblock2.denselayer3.norm.2.weight\", \"features.denseblock2.denselayer3.norm.2.bias\", \"features.denseblock2.denselayer3.norm.2.running_mean\", \"features.denseblock2.denselayer3.norm.2.running_var\", \"features.denseblock2.denselayer3.conv.2.weight\", \"features.denseblock2.denselayer4.norm.2.weight\", \"features.denseblock2.denselayer4.norm.2.bias\", \"features.denseblock2.denselayer4.norm.2.running_mean\", \"features.denseblock2.denselayer4.norm.2.running_var\", \"features.denseblock2.denselayer4.conv.2.weight\", \"features.denseblock2.denselayer5.norm.2.weight\", \"features.denseblock2.denselayer5.norm.2.bias\", \"features.denseblock2.denselayer5.norm.2.running_mean\", \"features.denseblock2.denselayer5.norm.2.running_var\", \"features.denseblock2.denselayer5.conv.2.weight\", \"features.denseblock2.denselayer6.norm.2.weight\", \"features.denseblock2.denselayer6.norm.2.bias\", \"features.denseblock2.denselayer6.norm.2.running_mean\", \"features.denseblock2.denselayer6.norm.2.running_var\", \"features.denseblock2.denselayer6.conv.2.weight\", \"features.denseblock2.denselayer7.norm.2.weight\", \"features.denseblock2.denselayer7.norm.2.bias\", \"features.denseblock2.denselayer7.norm.2.running_mean\", \"features.denseblock2.denselayer7.norm.2.running_var\", \"features.denseblock2.denselayer7.conv.2.weight\", \"features.denseblock2.denselayer8.norm.2.weight\", \"features.denseblock2.denselayer8.norm.2.bias\", \"features.denseblock2.denselayer8.norm.2.running_mean\", \"features.denseblock2.denselayer8.norm.2.running_var\", \"features.denseblock2.denselayer8.conv.2.weight\", \"features.denseblock2.denselayer9.norm.2.weight\", \"features.denseblock2.denselayer9.norm.2.bias\", \"features.denseblock2.denselayer9.norm.2.running_mean\", \"features.denseblock2.denselayer9.norm.2.running_var\", \"features.denseblock2.denselayer9.conv.2.weight\", \"features.denseblock2.denselayer10.norm.2.weight\", \"features.denseblock2.denselayer10.norm.2.bias\", \"features.denseblock2.denselayer10.norm.2.running_mean\", \"features.denseblock2.denselayer10.norm.2.running_var\", \"features.denseblock2.denselayer10.conv.2.weight\", \"features.denseblock2.denselayer11.norm.2.weight\", \"features.denseblock2.denselayer11.norm.2.bias\", \"features.denseblock2.denselayer11.norm.2.running_mean\", \"features.denseblock2.denselayer11.norm.2.running_var\", \"features.denseblock2.denselayer11.conv.2.weight\", \"features.denseblock2.denselayer12.norm.2.weight\", \"features.denseblock2.denselayer12.norm.2.bias\", \"features.denseblock2.denselayer12.norm.2.running_mean\", \"features.denseblock2.denselayer12.norm.2.running_var\", \"features.denseblock2.denselayer12.conv.2.weight\", \"features.denseblock3.denselayer1.norm.2.weight\", \"features.denseblock3.denselayer1.norm.2.bias\", \"features.denseblock3.denselayer1.norm.2.running_mean\", \"features.denseblock3.denselayer1.norm.2.running_var\", \"features.denseblock3.denselayer1.conv.2.weight\", \"features.denseblock3.denselayer2.norm.2.weight\", \"features.denseblock3.denselayer2.norm.2.bias\", \"features.denseblock3.denselayer2.norm.2.running_mean\", \"features.denseblock3.denselayer2.norm.2.running_var\", \"features.denseblock3.denselayer2.conv.2.weight\", \"features.denseblock3.denselayer3.norm.2.weight\", \"features.denseblock3.denselayer3.norm.2.bias\", \"features.denseblock3.denselayer3.norm.2.running_mean\", \"features.denseblock3.denselayer3.norm.2.running_var\", \"features.denseblock3.denselayer3.conv.2.weight\", \"features.denseblock3.denselayer4.norm.2.weight\", \"features.denseblock3.denselayer4.norm.2.bias\", \"features.denseblock3.denselayer4.norm.2.running_mean\", \"features.denseblock3.denselayer4.norm.2.running_var\", \"features.denseblock3.denselayer4.conv.2.weight\", \"features.denseblock3.denselayer5.norm.2.weight\", \"features.denseblock3.denselayer5.norm.2.bias\", \"features.denseblock3.denselayer5.norm.2.running_mean\", \"features.denseblock3.denselayer5.norm.2.running_var\", \"features.denseblock3.denselayer5.conv.2.weight\", \"features.denseblock3.denselayer6.norm.2.weight\", \"features.denseblock3.denselayer6.norm.2.bias\", \"features.denseblock3.denselayer6.norm.2.running_mean\", \"features.denseblock3.denselayer6.norm.2.running_var\", \"features.denseblock3.denselayer6.conv.2.weight\", \"features.denseblock3.denselayer7.norm.2.weight\", \"features.denseblock3.denselayer7.norm.2.bias\", \"features.denseblock3.denselayer7.norm.2.running_mean\", \"features.denseblock3.denselayer7.norm.2.running_var\", \"features.denseblock3.denselayer7.conv.2.weight\", \"features.denseblock3.denselayer8.norm.2.weight\", \"features.denseblock3.denselayer8.norm.2.bias\", \"features.denseblock3.denselayer8.norm.2.running_mean\", \"features.denseblock3.denselayer8.norm.2.running_var\", \"features.denseblock3.denselayer8.conv.2.weight\", \"features.denseblock3.denselayer9.norm.2.weight\", \"features.denseblock3.denselayer9.norm.2.bias\", \"features.denseblock3.denselayer9.norm.2.running_mean\", \"features.denseblock3.denselayer9.norm.2.running_var\", \"features.denseblock3.denselayer9.conv.2.weight\", \"features.denseblock3.denselayer10.norm.2.weight\", \"features.denseblock3.denselayer10.norm.2.bias\", \"features.denseblock3.denselayer10.norm.2.running_mean\", \"features.denseblock3.denselayer10.norm.2.running_var\", \"features.denseblock3.denselayer10.conv.2.weight\", \"features.denseblock3.denselayer11.norm.2.weight\", \"features.denseblock3.denselayer11.norm.2.bias\", \"features.denseblock3.denselayer11.norm.2.running_mean\", \"features.denseblock3.denselayer11.norm.2.running_var\", \"features.denseblock3.denselayer11.conv.2.weight\", \"features.denseblock3.denselayer12.norm.2.weight\", \"features.denseblock3.denselayer12.norm.2.bias\", \"features.denseblock3.denselayer12.norm.2.running_mean\", \"features.denseblock3.denselayer12.norm.2.running_var\", \"features.denseblock3.denselayer12.conv.2.weight\", \"features.denseblock3.denselayer13.norm.2.weight\", \"features.denseblock3.denselayer13.norm.2.bias\", \"features.denseblock3.denselayer13.norm.2.running_mean\", \"features.denseblock3.denselayer13.norm.2.running_var\", \"features.denseblock3.denselayer13.conv.2.weight\", \"features.denseblock3.denselayer14.norm.2.weight\", \"features.denseblock3.denselayer14.norm.2.bias\", \"features.denseblock3.denselayer14.norm.2.running_mean\", \"features.denseblock3.denselayer14.norm.2.running_var\", \"features.denseblock3.denselayer14.conv.2.weight\", \"features.denseblock3.denselayer15.norm.2.weight\", \"features.denseblock3.denselayer15.norm.2.bias\", \"features.denseblock3.denselayer15.norm.2.running_mean\", \"features.denseblock3.denselayer15.norm.2.running_var\", \"features.denseblock3.denselayer15.conv.2.weight\", \"features.denseblock3.denselayer16.norm.2.weight\", \"features.denseblock3.denselayer16.norm.2.bias\", \"features.denseblock3.denselayer16.norm.2.running_mean\", \"features.denseblock3.denselayer16.norm.2.running_var\", \"features.denseblock3.denselayer16.conv.2.weight\", \"features.denseblock3.denselayer17.norm.2.weight\", \"features.denseblock3.denselayer17.norm.2.bias\", \"features.denseblock3.denselayer17.norm.2.running_mean\", \"features.denseblock3.denselayer17.norm.2.running_var\", \"features.denseblock3.denselayer17.conv.2.weight\", \"features.denseblock3.denselayer18.norm.2.weight\", \"features.denseblock3.denselayer18.norm.2.bias\", \"features.denseblock3.denselayer18.norm.2.running_mean\", \"features.denseblock3.denselayer18.norm.2.running_var\", \"features.denseblock3.denselayer18.conv.2.weight\", \"features.denseblock3.denselayer19.norm.2.weight\", \"features.denseblock3.denselayer19.norm.2.bias\", \"features.denseblock3.denselayer19.norm.2.running_mean\", \"features.denseblock3.denselayer19.norm.2.running_var\", \"features.denseblock3.denselayer19.conv.2.weight\", \"features.denseblock3.denselayer20.norm.2.weight\", \"features.denseblock3.denselayer20.norm.2.bias\", \"features.denseblock3.denselayer20.norm.2.running_mean\", \"features.denseblock3.denselayer20.norm.2.running_var\", \"features.denseblock3.denselayer20.conv.2.weight\", \"features.denseblock3.denselayer21.norm.2.weight\", \"features.denseblock3.denselayer21.norm.2.bias\", \"features.denseblock3.denselayer21.norm.2.running_mean\", \"features.denseblock3.denselayer21.norm.2.running_var\", \"features.denseblock3.denselayer21.conv.2.weight\", \"features.denseblock3.denselayer22.norm.2.weight\", \"features.denseblock3.denselayer22.norm.2.bias\", \"features.denseblock3.denselayer22.norm.2.running_mean\", \"features.denseblock3.denselayer22.norm.2.running_var\", \"features.denseblock3.denselayer22.conv.2.weight\", \"features.denseblock3.denselayer23.norm.2.weight\", \"features.denseblock3.denselayer23.norm.2.bias\", \"features.denseblock3.denselayer23.norm.2.running_mean\", \"features.denseblock3.denselayer23.norm.2.running_var\", \"features.denseblock3.denselayer23.conv.2.weight\", \"features.denseblock3.denselayer24.norm.2.weight\", \"features.denseblock3.denselayer24.norm.2.bias\", \"features.denseblock3.denselayer24.norm.2.running_mean\", \"features.denseblock3.denselayer24.norm.2.running_var\", \"features.denseblock3.denselayer24.conv.2.weight\", \"features.denseblock4.denselayer1.norm.2.weight\", \"features.denseblock4.denselayer1.norm.2.bias\", \"features.denseblock4.denselayer1.norm.2.running_mean\", \"features.denseblock4.denselayer1.norm.2.running_var\", \"features.denseblock4.denselayer1.conv.2.weight\", \"features.denseblock4.denselayer2.norm.2.weight\", \"features.denseblock4.denselayer2.norm.2.bias\", \"features.denseblock4.denselayer2.norm.2.running_mean\", \"features.denseblock4.denselayer2.norm.2.running_var\", \"features.denseblock4.denselayer2.conv.2.weight\", \"features.denseblock4.denselayer3.norm.2.weight\", \"features.denseblock4.denselayer3.norm.2.bias\", \"features.denseblock4.denselayer3.norm.2.running_mean\", \"features.denseblock4.denselayer3.norm.2.running_var\", \"features.denseblock4.denselayer3.conv.2.weight\", \"features.denseblock4.denselayer4.norm.2.weight\", \"features.denseblock4.denselayer4.norm.2.bias\", \"features.denseblock4.denselayer4.norm.2.running_mean\", \"features.denseblock4.denselayer4.norm.2.running_var\", \"features.denseblock4.denselayer4.conv.2.weight\", \"features.denseblock4.denselayer5.norm.2.weight\", \"features.denseblock4.denselayer5.norm.2.bias\", \"features.denseblock4.denselayer5.norm.2.running_mean\", \"features.denseblock4.denselayer5.norm.2.running_var\", \"features.denseblock4.denselayer5.conv.2.weight\", \"features.denseblock4.denselayer6.norm.2.weight\", \"features.denseblock4.denselayer6.norm.2.bias\", \"features.denseblock4.denselayer6.norm.2.running_mean\", \"features.denseblock4.denselayer6.norm.2.running_var\", \"features.denseblock4.denselayer6.conv.2.weight\", \"features.denseblock4.denselayer7.norm.2.weight\", \"features.denseblock4.denselayer7.norm.2.bias\", \"features.denseblock4.denselayer7.norm.2.running_mean\", \"features.denseblock4.denselayer7.norm.2.running_var\", \"features.denseblock4.denselayer7.conv.2.weight\", \"features.denseblock4.denselayer8.norm.2.weight\", \"features.denseblock4.denselayer8.norm.2.bias\", \"features.denseblock4.denselayer8.norm.2.running_mean\", \"features.denseblock4.denselayer8.norm.2.running_var\", \"features.denseblock4.denselayer8.conv.2.weight\", \"features.denseblock4.denselayer9.norm.2.weight\", \"features.denseblock4.denselayer9.norm.2.bias\", \"features.denseblock4.denselayer9.norm.2.running_mean\", \"features.denseblock4.denselayer9.norm.2.running_var\", \"features.denseblock4.denselayer9.conv.2.weight\", \"features.denseblock4.denselayer10.norm.2.weight\", \"features.denseblock4.denselayer10.norm.2.bias\", \"features.denseblock4.denselayer10.norm.2.running_mean\", \"features.denseblock4.denselayer10.norm.2.running_var\", \"features.denseblock4.denselayer10.conv.2.weight\", \"features.denseblock4.denselayer11.norm.2.weight\", \"features.denseblock4.denselayer11.norm.2.bias\", \"features.denseblock4.denselayer11.norm.2.running_mean\", \"features.denseblock4.denselayer11.norm.2.running_var\", \"features.denseblock4.denselayer11.conv.2.weight\", \"features.denseblock4.denselayer12.norm.2.weight\", \"features.denseblock4.denselayer12.norm.2.bias\", \"features.denseblock4.denselayer12.norm.2.running_mean\", \"features.denseblock4.denselayer12.norm.2.running_var\", \"features.denseblock4.denselayer12.conv.2.weight\", \"features.denseblock4.denselayer13.norm.2.weight\", \"features.denseblock4.denselayer13.norm.2.bias\", \"features.denseblock4.denselayer13.norm.2.running_mean\", \"features.denseblock4.denselayer13.norm.2.running_var\", \"features.denseblock4.denselayer13.conv.2.weight\", \"features.denseblock4.denselayer14.norm.2.weight\", \"features.denseblock4.denselayer14.norm.2.bias\", \"features.denseblock4.denselayer14.norm.2.running_mean\", \"features.denseblock4.denselayer14.norm.2.running_var\", \"features.denseblock4.denselayer14.conv.2.weight\", \"features.denseblock4.denselayer15.norm.2.weight\", \"features.denseblock4.denselayer15.norm.2.bias\", \"features.denseblock4.denselayer15.norm.2.running_mean\", \"features.denseblock4.denselayer15.norm.2.running_var\", \"features.denseblock4.denselayer15.conv.2.weight\", \"features.denseblock4.denselayer16.norm.2.weight\", \"features.denseblock4.denselayer16.norm.2.bias\", \"features.denseblock4.denselayer16.norm.2.running_mean\", \"features.denseblock4.denselayer16.norm.2.running_var\", \"features.denseblock4.denselayer16.conv.2.weight\". "
     ]
    }
   ],
   "source": [
    "# Load an existing model trained on 20 categories\n",
    "# model.load_state_dict(torch.load('./models/cat_2_fmow_50000_pure_wake_12000/model.dat'))"
   ]
  },
  {
   "cell_type": "markdown",
   "metadata": {},
   "source": [
    "## Train Model\n",
    "Train the model one epoch at a time. Keep the verbose option on to monitor the loss during training. \n",
    "Save training and validation accuracy history for visualization. "
   ]
  },
  {
   "cell_type": "code",
   "execution_count": 4,
   "metadata": {},
   "outputs": [
    {
     "name": "stdout",
     "output_type": "stream",
     "text": [
      "torch.LongTensor\n"
     ]
    },
    {
     "ename": "TypeError",
     "evalue": "unhashable type: 'numpy.ndarray'",
     "output_type": "error",
     "traceback": [
      "\u001b[0;31m----------------------------------------------------------\u001b[0m",
      "\u001b[0;31mKeyError\u001b[0m                 Traceback (most recent call last)",
      "\u001b[0;32m~/code/satellite-building-detection.pytorch/dataset.py\u001b[0m in \u001b[0;36m__getitem__\u001b[0;34m(self, idx)\u001b[0m\n\u001b[1;32m     73\u001b[0m         \u001b[0;32mtry\u001b[0m\u001b[0;34m:\u001b[0m\u001b[0;34m\u001b[0m\u001b[0m\n\u001b[0;32m---> 74\u001b[0;31m             \u001b[0mimage_p\u001b[0m \u001b[0;34m=\u001b[0m \u001b[0mself\u001b[0m\u001b[0;34m.\u001b[0m\u001b[0mmap\u001b[0m\u001b[0;34m[\u001b[0m\u001b[0midx\u001b[0m\u001b[0;34m]\u001b[0m\u001b[0;34m\u001b[0m\u001b[0m\n\u001b[0m\u001b[1;32m     75\u001b[0m         \u001b[0;32mexcept\u001b[0m \u001b[0mException\u001b[0m \u001b[0;32mas\u001b[0m \u001b[0me\u001b[0m\u001b[0;34m:\u001b[0m\u001b[0;34m\u001b[0m\u001b[0m\n",
      "\u001b[0;31mKeyError\u001b[0m: tensor(11429)",
      "\nDuring handling of the above exception, another exception occurred:\n",
      "\u001b[0;31mTypeError\u001b[0m                Traceback (most recent call last)",
      "\u001b[0;32m<ipython-input-4-8f65279dc799>\u001b[0m in \u001b[0;36m<module>\u001b[0;34m\u001b[0m\n\u001b[1;32m      9\u001b[0m       \u001b[0mwd\u001b[0m\u001b[0;34m=\u001b[0m\u001b[0;36m0.0001\u001b[0m\u001b[0;34m,\u001b[0m\u001b[0;34m\u001b[0m\u001b[0m\n\u001b[1;32m     10\u001b[0m       \u001b[0mmomentum\u001b[0m\u001b[0;34m=\u001b[0m\u001b[0;36m0.9\u001b[0m\u001b[0;34m,\u001b[0m\u001b[0;34m\u001b[0m\u001b[0m\n\u001b[0;32m---> 11\u001b[0;31m       seed=None)\n\u001b[0m",
      "\u001b[0;32m~/code/satellite-building-detection.pytorch/solver.py\u001b[0m in \u001b[0;36mtrain\u001b[0;34m(model, train_set, test_set, save, n_epochs, valid_size, batch_size, lr, wd, momentum, seed)\u001b[0m\n\u001b[1;32m    170\u001b[0m             \u001b[0moptimizer\u001b[0m\u001b[0;34m=\u001b[0m\u001b[0moptimizer\u001b[0m\u001b[0;34m,\u001b[0m\u001b[0;34m\u001b[0m\u001b[0m\n\u001b[1;32m    171\u001b[0m             \u001b[0mepoch\u001b[0m\u001b[0;34m=\u001b[0m\u001b[0mepoch\u001b[0m\u001b[0;34m,\u001b[0m\u001b[0;34m\u001b[0m\u001b[0m\n\u001b[0;32m--> 172\u001b[0;31m             \u001b[0mn_epochs\u001b[0m\u001b[0;34m=\u001b[0m\u001b[0mn_epochs\u001b[0m\u001b[0;34m,\u001b[0m\u001b[0;34m\u001b[0m\u001b[0m\n\u001b[0m\u001b[1;32m    173\u001b[0m         )\n\u001b[1;32m    174\u001b[0m         _, valid_loss, valid_error = test_epoch(\n",
      "\u001b[0;32m~/code/satellite-building-detection.pytorch/solver.py\u001b[0m in \u001b[0;36mtrain_epoch\u001b[0;34m(model, loader, optimizer, epoch, n_epochs, print_freq)\u001b[0m\n\u001b[1;32m     17\u001b[0m \u001b[0;34m\u001b[0m\u001b[0m\n\u001b[1;32m     18\u001b[0m     \u001b[0mend\u001b[0m \u001b[0;34m=\u001b[0m \u001b[0mtime\u001b[0m\u001b[0;34m.\u001b[0m\u001b[0mtime\u001b[0m\u001b[0;34m(\u001b[0m\u001b[0;34m)\u001b[0m\u001b[0;34m\u001b[0m\u001b[0m\n\u001b[0;32m---> 19\u001b[0;31m     \u001b[0;32mfor\u001b[0m \u001b[0mbatch_idx\u001b[0m\u001b[0;34m,\u001b[0m \u001b[0;34m(\u001b[0m\u001b[0minput\u001b[0m\u001b[0;34m,\u001b[0m \u001b[0mtarget\u001b[0m\u001b[0;34m)\u001b[0m \u001b[0;32min\u001b[0m \u001b[0menumerate\u001b[0m\u001b[0;34m(\u001b[0m\u001b[0mloader\u001b[0m\u001b[0;34m)\u001b[0m\u001b[0;34m:\u001b[0m\u001b[0;34m\u001b[0m\u001b[0m\n\u001b[0m\u001b[1;32m     20\u001b[0m         \u001b[0;31m# Walkaround...\u001b[0m\u001b[0;34m\u001b[0m\u001b[0;34m\u001b[0m\u001b[0m\n\u001b[1;32m     21\u001b[0m         \u001b[0mtarget\u001b[0m \u001b[0;34m=\u001b[0m \u001b[0mtarget\u001b[0m\u001b[0;34m[\u001b[0m\u001b[0;34m:\u001b[0m\u001b[0;34m,\u001b[0m\u001b[0;36m0\u001b[0m\u001b[0;34m]\u001b[0m\u001b[0;34m\u001b[0m\u001b[0m\n",
      "\u001b[0;32m~/anaconda2/envs/rbc/lib/python3.6/site-packages/torch/utils/data/dataloader.py\u001b[0m in \u001b[0;36m__next__\u001b[0;34m(self)\u001b[0m\n\u001b[1;32m    613\u001b[0m         \u001b[0;32mif\u001b[0m \u001b[0mself\u001b[0m\u001b[0;34m.\u001b[0m\u001b[0mnum_workers\u001b[0m \u001b[0;34m==\u001b[0m \u001b[0;36m0\u001b[0m\u001b[0;34m:\u001b[0m  \u001b[0;31m# same-process loading\u001b[0m\u001b[0;34m\u001b[0m\u001b[0m\n\u001b[1;32m    614\u001b[0m             \u001b[0mindices\u001b[0m \u001b[0;34m=\u001b[0m \u001b[0mnext\u001b[0m\u001b[0;34m(\u001b[0m\u001b[0mself\u001b[0m\u001b[0;34m.\u001b[0m\u001b[0msample_iter\u001b[0m\u001b[0;34m)\u001b[0m  \u001b[0;31m# may raise StopIteration\u001b[0m\u001b[0;34m\u001b[0m\u001b[0m\n\u001b[0;32m--> 615\u001b[0;31m             \u001b[0mbatch\u001b[0m \u001b[0;34m=\u001b[0m \u001b[0mself\u001b[0m\u001b[0;34m.\u001b[0m\u001b[0mcollate_fn\u001b[0m\u001b[0;34m(\u001b[0m\u001b[0;34m[\u001b[0m\u001b[0mself\u001b[0m\u001b[0;34m.\u001b[0m\u001b[0mdataset\u001b[0m\u001b[0;34m[\u001b[0m\u001b[0mi\u001b[0m\u001b[0;34m]\u001b[0m \u001b[0;32mfor\u001b[0m \u001b[0mi\u001b[0m \u001b[0;32min\u001b[0m \u001b[0mindices\u001b[0m\u001b[0;34m]\u001b[0m\u001b[0;34m)\u001b[0m\u001b[0;34m\u001b[0m\u001b[0m\n\u001b[0m\u001b[1;32m    616\u001b[0m             \u001b[0;32mif\u001b[0m \u001b[0mself\u001b[0m\u001b[0;34m.\u001b[0m\u001b[0mpin_memory\u001b[0m\u001b[0;34m:\u001b[0m\u001b[0;34m\u001b[0m\u001b[0m\n\u001b[1;32m    617\u001b[0m                 \u001b[0mbatch\u001b[0m \u001b[0;34m=\u001b[0m \u001b[0mpin_memory_batch\u001b[0m\u001b[0;34m(\u001b[0m\u001b[0mbatch\u001b[0m\u001b[0;34m)\u001b[0m\u001b[0;34m\u001b[0m\u001b[0m\n",
      "\u001b[0;32m~/anaconda2/envs/rbc/lib/python3.6/site-packages/torch/utils/data/dataloader.py\u001b[0m in \u001b[0;36m<listcomp>\u001b[0;34m(.0)\u001b[0m\n\u001b[1;32m    613\u001b[0m         \u001b[0;32mif\u001b[0m \u001b[0mself\u001b[0m\u001b[0;34m.\u001b[0m\u001b[0mnum_workers\u001b[0m \u001b[0;34m==\u001b[0m \u001b[0;36m0\u001b[0m\u001b[0;34m:\u001b[0m  \u001b[0;31m# same-process loading\u001b[0m\u001b[0;34m\u001b[0m\u001b[0m\n\u001b[1;32m    614\u001b[0m             \u001b[0mindices\u001b[0m \u001b[0;34m=\u001b[0m \u001b[0mnext\u001b[0m\u001b[0;34m(\u001b[0m\u001b[0mself\u001b[0m\u001b[0;34m.\u001b[0m\u001b[0msample_iter\u001b[0m\u001b[0;34m)\u001b[0m  \u001b[0;31m# may raise StopIteration\u001b[0m\u001b[0;34m\u001b[0m\u001b[0m\n\u001b[0;32m--> 615\u001b[0;31m             \u001b[0mbatch\u001b[0m \u001b[0;34m=\u001b[0m \u001b[0mself\u001b[0m\u001b[0;34m.\u001b[0m\u001b[0mcollate_fn\u001b[0m\u001b[0;34m(\u001b[0m\u001b[0;34m[\u001b[0m\u001b[0mself\u001b[0m\u001b[0;34m.\u001b[0m\u001b[0mdataset\u001b[0m\u001b[0;34m[\u001b[0m\u001b[0mi\u001b[0m\u001b[0;34m]\u001b[0m \u001b[0;32mfor\u001b[0m \u001b[0mi\u001b[0m \u001b[0;32min\u001b[0m \u001b[0mindices\u001b[0m\u001b[0;34m]\u001b[0m\u001b[0;34m)\u001b[0m\u001b[0;34m\u001b[0m\u001b[0m\n\u001b[0m\u001b[1;32m    616\u001b[0m             \u001b[0;32mif\u001b[0m \u001b[0mself\u001b[0m\u001b[0;34m.\u001b[0m\u001b[0mpin_memory\u001b[0m\u001b[0;34m:\u001b[0m\u001b[0;34m\u001b[0m\u001b[0m\n\u001b[1;32m    617\u001b[0m                 \u001b[0mbatch\u001b[0m \u001b[0;34m=\u001b[0m \u001b[0mpin_memory_batch\u001b[0m\u001b[0;34m(\u001b[0m\u001b[0mbatch\u001b[0m\u001b[0;34m)\u001b[0m\u001b[0;34m\u001b[0m\u001b[0m\n",
      "\u001b[0;32m~/code/satellite-building-detection.pytorch/dataset.py\u001b[0m in \u001b[0;36m__getitem__\u001b[0;34m(self, idx)\u001b[0m\n\u001b[1;32m     75\u001b[0m         \u001b[0;32mexcept\u001b[0m \u001b[0mException\u001b[0m \u001b[0;32mas\u001b[0m \u001b[0me\u001b[0m\u001b[0;34m:\u001b[0m\u001b[0;34m\u001b[0m\u001b[0m\n\u001b[1;32m     76\u001b[0m             \u001b[0mprint\u001b[0m\u001b[0;34m(\u001b[0m\u001b[0midx\u001b[0m\u001b[0;34m.\u001b[0m\u001b[0mtype\u001b[0m\u001b[0;34m(\u001b[0m\u001b[0;34m)\u001b[0m\u001b[0;34m)\u001b[0m\u001b[0;34m\u001b[0m\u001b[0m\n\u001b[0;32m---> 77\u001b[0;31m             \u001b[0mimage_p\u001b[0m \u001b[0;34m=\u001b[0m \u001b[0mself\u001b[0m\u001b[0;34m.\u001b[0m\u001b[0mmap\u001b[0m\u001b[0;34m[\u001b[0m\u001b[0midx\u001b[0m\u001b[0;34m.\u001b[0m\u001b[0mnumpy\u001b[0m\u001b[0;34m(\u001b[0m\u001b[0;34m)\u001b[0m\u001b[0;34m]\u001b[0m\u001b[0;34m\u001b[0m\u001b[0m\n\u001b[0m\u001b[1;32m     78\u001b[0m         \u001b[0mmetadata_p\u001b[0m \u001b[0;34m=\u001b[0m \u001b[0mimage_p\u001b[0m\u001b[0;34m[\u001b[0m\u001b[0;34m:\u001b[0m\u001b[0;34m-\u001b[0m\u001b[0;36m3\u001b[0m\u001b[0;34m]\u001b[0m \u001b[0;34m+\u001b[0m \u001b[0;34m'json'\u001b[0m\u001b[0;34m\u001b[0m\u001b[0m\n\u001b[1;32m     79\u001b[0m         \u001b[0;32mtry\u001b[0m\u001b[0;34m:\u001b[0m\u001b[0;34m\u001b[0m\u001b[0m\n",
      "\u001b[0;31mTypeError\u001b[0m: unhashable type: 'numpy.ndarray'"
     ]
    }
   ],
   "source": [
    "train(model, \n",
    "      train_set, \n",
    "      None, \n",
    "      './output', \n",
    "      n_epochs=30, \n",
    "      valid_size=1000,\n",
    "      batch_size=50, \n",
    "      lr=0.001, \n",
    "      wd=0.0001, \n",
    "      momentum=0.9, \n",
    "      seed=None)"
   ]
  },
  {
   "cell_type": "markdown",
   "metadata": {},
   "source": [
    "## Loss History\n",
    "Visualize training and validation accuracy throughout training history. \n",
    "Visualize loss function. "
   ]
  },
  {
   "cell_type": "code",
   "execution_count": null,
   "metadata": {},
   "outputs": [],
   "source": [
    "train_loss = []\n",
    "train_acc = []\n",
    "valid_loss = []\n",
    "valid_acc = []\n",
    "\n",
    "with open(os.path.join('./output', 'results.csv'), 'r') as f:\n",
    "        for line in f:\n",
    "            numbers = line.split(',')\n",
    "            if(numbers[0]=='epoch'):\n",
    "                continue\n",
    "            try:\n",
    "                train_loss.append(float(numbers[1]))\n",
    "                train_acc.append(1-float(numbers[2]))\n",
    "                valid_loss.append(float(numbers[3]))\n",
    "                valid_acc.append(1-float(numbers[4]))\n",
    "            except ValueError:\n",
    "                continue\n",
    "\n",
    "\n",
    "# Visualize loss history and training/validation accuracy history\n",
    "plt.subplot(2, 1, 1)\n",
    "plt.plot(train_loss, 'o')\n",
    "plt.xlabel('iteration')\n",
    "plt.ylabel('loss')\n",
    "\n",
    "plt.subplot(2, 1, 2)\n",
    "plt.plot(train_acc, '-o')\n",
    "plt.plot(valid_acc, '-o')\n",
    "plt.legend(['train', 'val'], loc='lower right')\n",
    "plt.xlabel('epoch')\n",
    "plt.ylabel('accuracy')\n",
    "plt.show()"
   ]
  },
  {
   "cell_type": "markdown",
   "metadata": {},
   "source": [
    "## Test Model\n",
    "Make predictions based on test dataset. Visually assess the quality of prediction and compute accuracy based on groundtruth. "
   ]
  },
  {
   "cell_type": "code",
   "execution_count": null,
   "metadata": {
    "scrolled": true
   },
   "outputs": [],
   "source": [
    "# Check accuracy of model on Test set\n",
    "test_loader = torch.utils.data.DataLoader(test_set, batch_size=50, shuffle=False,\n",
    "                                              pin_memory=(torch.cuda.is_available()), num_workers=0)\n",
    "# model.cuda()\n",
    "# test_epoch(model, test_loader)"
   ]
  },
  {
   "cell_type": "markdown",
   "metadata": {},
   "source": [
    "## Visualization on Test Images"
   ]
  },
  {
   "cell_type": "code",
   "execution_count": null,
   "metadata": {},
   "outputs": [],
   "source": [
    "np.random.seed(5)\n",
    "# Load some test images for visualization\n",
    "X_vis = None\n",
    "y_vis = None\n",
    "vis_size = 10\n",
    "vis_indices = np.random.choice(len(test_set), vis_size, replace=False)\n",
    "for i, idx in enumerate(vis_indices):\n",
    "    if X_vis is None:\n",
    "        X_vis, y_vis = test_set[idx]\n",
    "    else:\n",
    "        X_t, y_t = test_set[idx]\n",
    "        X_vis = torch.cat([X_vis, X_t], 0)\n",
    "        y_vis = torch.cat([y_vis, y_t], 0)\n",
    "X_vis = X_vis.type(torch.FloatTensor) \n",
    "X_vis = torch.unsqueeze(X_vis, 1)\n",
    "print(X_vis.size(), type(X_vis), y_vis.size(), type(y_vis))\n",
    "\n",
    "# Pick out success and failure cases\n",
    "model.cuda()\n",
    "model.eval() \n",
    "X_vis_var = Variable(X_vis.cuda(async=True))\n",
    "output = model(X_vis_var)\n",
    "_, preds = output.data.cpu().max(1)\n",
    "idx_success = (preds == y_vis).numpy() == 1\n",
    "idx_failure = (preds != y_vis).numpy() == 1\n",
    "print(idx_success)\n",
    "print(idx_failure)\n",
    "if idx_success.any():\n",
    "    X_success = torch.from_numpy(X_vis.numpy()[idx_success])\n",
    "    y_success = torch.from_numpy(y_vis.numpy()[idx_success])\n",
    "else:\n",
    "    X_success = torch.FloatTensor([])\n",
    "    y_success = torch.LongTensor([])\n",
    "if idx_failure.any():\n",
    "    X_failure = torch.from_numpy(X_vis.numpy()[idx_failure])\n",
    "    y_failure = torch.from_numpy(y_vis.numpy()[idx_failure])\n",
    "else:\n",
    "    X_failure = torch.FloatTensor([])\n",
    "    y_failure = torch.LongTensor([])"
   ]
  },
  {
   "cell_type": "markdown",
   "metadata": {},
   "source": [
    "### Class Activation Map"
   ]
  },
  {
   "cell_type": "code",
   "execution_count": null,
   "metadata": {},
   "outputs": [],
   "source": [
    "vis_success = True\n",
    "\n",
    "X_vis = X_success if vis_success else X_failure\n",
    "y_vis = y_success if vis_success else y_failure\n",
    "cams = getCAM(X_vis, y_vis, model)\n",
    "vis_size = len(X_vis)\n",
    "\n",
    "fig = plt.figure()\n",
    "for i in range(vis_size):\n",
    "    cam = cams[i]\n",
    "    heatmap = cv2.applyColorMap(cam, cv2.COLORMAP_JET)\n",
    "    image = X_vis.numpy()[i]\n",
    "    image = np.moveaxis(image, 0, 2)\n",
    "    overlay = heatmap * 0.4 + image * 0.5\n",
    "    overlay = np.uint8(overlay)\n",
    "    \n",
    "    plt.subplot(1, vis_size*2, i + 1)\n",
    "    plt.imshow(overlay)\n",
    "    plt.axis('off')\n",
    "    plt.title('Heat Map for Correct Class: %s' % rbc_class_names[y_vis[i]])\n",
    "    plt.subplot(1, vis_size*2, i + vis_size + 1)\n",
    "    plt.imshow(image[:,:,0])\n",
    "    plt.axis('off')\n",
    "    plt.gcf().set_size_inches(24, 8)\n",
    "    plt.show()"
   ]
  },
  {
   "cell_type": "markdown",
   "metadata": {},
   "source": [
    "### Visualize Successful and Failed Examples"
   ]
  },
  {
   "cell_type": "code",
   "execution_count": null,
   "metadata": {},
   "outputs": [],
   "source": [
    "# X_success = np.array([]).reshape((0, 1, 224, 224))\n",
    "# y_success = np.array([]).reshape((0,))\n",
    "# X_failure = np.array([]).reshape((0, 1, 224, 224))\n",
    "# y_failure = np.array([]).reshape((0,))\n",
    "\n",
    "# model.eval() \n",
    "# for X, y in test_loader:\n",
    "#     X_var = Variable(X.type(dtype), volatile=True)\n",
    "#     scores = model(X_var)\n",
    "#     _, preds = scores.data.cpu().max(1)\n",
    "#     y = y[:,0]\n",
    "#     idx_success = (preds == y).numpy() == 1\n",
    "#     idx_failure = (preds != y).numpy() == 1\n",
    "#     X = X.numpy()\n",
    "#     y = y.numpy()\n",
    "#     X_success = np.append(X_success, X[idx_success.tolist(), :, :, :], axis=0)\n",
    "#     y_success = np.append(y_success, y[idx_success.tolist(), ], axis=0)\n",
    "#     X_failure = np.append(X_failure, X[idx_failure.tolist(), :, :, :], axis=0)\n",
    "#     y_failure = np.append(y_failure, preds[idx_failure.tolist(), ], axis=0)\n",
    "    \n",
    "# y_success = y_success.astype(np.int32)\n",
    "# y_failure = y_failure.astype(np.int32)"
   ]
  },
  {
   "cell_type": "code",
   "execution_count": null,
   "metadata": {},
   "outputs": [],
   "source": [
    "# # Sample a batch of successfully classified images\n",
    "# for i in range(10):\n",
    "#     plt.subplot(3, 4, i+1)\n",
    "#     img = np.moveaxis(X_success[i, :, :, :], 0, -1)\n",
    "#     plt.imshow(img[:,:,0])\n",
    "#     plt.axis('off')\n",
    "#     plt.title(rbc_class_names[y_success[i]])\n",
    "#     plt.show()"
   ]
  },
  {
   "cell_type": "code",
   "execution_count": null,
   "metadata": {},
   "outputs": [],
   "source": [
    "## Sample a batch of incorrectly classified images\n",
    "# plt.title('Failure Examples')\n",
    "# for i in range(8):\n",
    "#     plt.subplot(2, 4, i+1)\n",
    "#     img = np.moveaxis(X_failure[i, :, :, :], 0, -1)\n",
    "#     plt.imshow(img[:,:,0])\n",
    "#     plt.axis('off')\n",
    "#     plt.title(rbc_class_names[y_failure[i]])\n",
    "#     plt.show()"
   ]
  },
  {
   "cell_type": "code",
   "execution_count": null,
   "metadata": {},
   "outputs": [],
   "source": []
  },
  {
   "cell_type": "code",
   "execution_count": null,
   "metadata": {},
   "outputs": [],
   "source": []
  }
 ],
 "metadata": {
  "kernelspec": {
   "display_name": "Python 3",
   "language": "python",
   "name": "python3"
  },
  "language_info": {
   "codemirror_mode": {
    "name": "ipython",
    "version": 3
   },
   "file_extension": ".py",
   "mimetype": "text/x-python",
   "name": "python",
   "nbconvert_exporter": "python",
   "pygments_lexer": "ipython3",
   "version": "3.6.6"
  }
 },
 "nbformat": 4,
 "nbformat_minor": 2
}
