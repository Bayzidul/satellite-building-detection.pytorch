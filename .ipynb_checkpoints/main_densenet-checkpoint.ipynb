{
 "cells": [
  {
   "cell_type": "markdown",
   "metadata": {},
   "source": [
    "# Residential Building Classification\n",
    "This is a bare-bone version of the residential vs. non-residential building classification. We use DenseNet in this implementation. "
   ]
  },
  {
   "cell_type": "code",
   "execution_count": 1,
   "metadata": {},
   "outputs": [],
   "source": [
    "import torch\n",
    "import torch.nn as nn\n",
    "import torch.optim as optim\n",
    "from torch.autograd import Variable\n",
    "from torch.utils.data import DataLoader\n",
    "from torch.utils.data import TensorDataset\n",
    "from torchvision import transforms\n",
    "\n",
    "import numpy as np\n",
    "import cv2\n",
    "import matplotlib.pyplot as plt\n",
    "\n",
    "import params\n",
    "from densenet_efficient import DenseNetEfficient\n",
    "from solver import train, test_epoch\n",
    "from dataset import *\n",
    "\n",
    "# Load parameters\n",
    "params = vars(params)\n",
    "rbc_class_names = params['rbc_class_names']\n",
    "fmow_class_names = params['fmow_class_names']\n",
    "fmow_class_names_mini = params['fmow_class_names_mini']\n",
    "dtype = params['dtype']\n",
    "\n",
    "torch.set_num_threads(params['num_threads'])"
   ]
  },
  {
   "cell_type": "markdown",
   "metadata": {},
   "source": [
    "## Preprocess FMOW Dataset\n",
    "Check if fMoW dataset is available. If so, process the images by cropping based on given bounding boxes. Load in traing, validation and test dataset along with ground truth labels for training and validation set. "
   ]
  },
  {
   "cell_type": "code",
   "execution_count": 2,
   "metadata": {},
   "outputs": [
    {
     "name": "stdout",
     "output_type": "stream",
     "text": [
      "Number of Training/Validation Images: 2\n",
      "<class 'torch.FloatTensor'> torch.Size([1, 224, 224]) <class 'torch.LongTensor'> torch.Size([1])\n"
     ]
    }
   ],
   "source": [
    "mean = 0.5 #457.38\n",
    "stdv = 0.25\n",
    "train_transforms = transforms.Compose([\n",
    "    Normalize(mean=mean, std=stdv),\n",
    "    Rescale((224,224)),\n",
    "    ToTensor(),\n",
    "])\n",
    "train_set = WCDataset(params, transform=train_transforms)\n",
    "print(\"Number of Training/Validation Images: %i\" % len(train_set))\n",
    "x,y = train_set[0]\n",
    "print(type(x), x.shape, type(y), y.shape)"
   ]
  },
  {
   "cell_type": "code",
   "execution_count": 3,
   "metadata": {},
   "outputs": [
    {
     "name": "stdout",
     "output_type": "stream",
     "text": [
      "Number of Testing Images: 2148\n",
      "<class 'torch.FloatTensor'> torch.Size([1, 224, 224]) <class 'torch.LongTensor'> torch.Size([1])\n"
     ]
    }
   ],
   "source": [
    "mean = 0.5 #457.38\n",
    "stdv = 0.25\n",
    "test_transforms = transforms.Compose([\n",
    "    Normalize(mean=mean, std=stdv),\n",
    "    Rescale((224,224)),\n",
    "    ToTensor(),\n",
    "])\n",
    "test_set = WCDataset(params, transform=test_transforms, train=False)\n",
    "print(\"Number of Testing Images: %i\" % len(test_set))\n",
    "x,y = test_set[0]\n",
    "print(type(x), x.shape, type(y), y.shape)"
   ]
  },
  {
   "cell_type": "markdown",
   "metadata": {},
   "source": [
    "### Visualize a small batch of data\n",
    "Plot a small batch of training images to get a sense of data"
   ]
  },
  {
   "cell_type": "code",
   "execution_count": 4,
   "metadata": {},
   "outputs": [
    {
     "ename": "ValueError",
     "evalue": "Cannot take a larger sample than population when 'replace=False'",
     "output_type": "error",
     "traceback": [
      "\u001b[0;31m---------------------------------------------------------------------------\u001b[0m",
      "\u001b[0;31mValueError\u001b[0m                                Traceback (most recent call last)",
      "\u001b[0;32m<ipython-input-4-cbdbee35548b>\u001b[0m in \u001b[0;36m<module>\u001b[0;34m()\u001b[0m\n\u001b[1;32m      1\u001b[0m \u001b[0;31m# Sample a minibatch and show the images and captions\u001b[0m\u001b[0;34m\u001b[0m\u001b[0;34m\u001b[0m\u001b[0m\n\u001b[1;32m      2\u001b[0m \u001b[0msize\u001b[0m \u001b[0;34m=\u001b[0m \u001b[0;36m5\u001b[0m\u001b[0;34m\u001b[0m\u001b[0m\n\u001b[0;32m----> 3\u001b[0;31m \u001b[0mindices\u001b[0m \u001b[0;34m=\u001b[0m \u001b[0mnp\u001b[0m\u001b[0;34m.\u001b[0m\u001b[0mrandom\u001b[0m\u001b[0;34m.\u001b[0m\u001b[0mchoice\u001b[0m\u001b[0;34m(\u001b[0m\u001b[0mlen\u001b[0m\u001b[0;34m(\u001b[0m\u001b[0mtrain_set\u001b[0m\u001b[0;34m)\u001b[0m\u001b[0;34m,\u001b[0m \u001b[0msize\u001b[0m\u001b[0;34m,\u001b[0m \u001b[0mreplace\u001b[0m\u001b[0;34m=\u001b[0m\u001b[0;32mFalse\u001b[0m\u001b[0;34m)\u001b[0m\u001b[0;34m\u001b[0m\u001b[0m\n\u001b[0m\u001b[1;32m      4\u001b[0m \u001b[0;34m\u001b[0m\u001b[0m\n\u001b[1;32m      5\u001b[0m \u001b[0mfig\u001b[0m \u001b[0;34m=\u001b[0m \u001b[0mplt\u001b[0m\u001b[0;34m.\u001b[0m\u001b[0mfigure\u001b[0m\u001b[0;34m(\u001b[0m\u001b[0;34m)\u001b[0m\u001b[0;34m\u001b[0m\u001b[0m\n",
      "\u001b[0;32mmtrand.pyx\u001b[0m in \u001b[0;36mmtrand.RandomState.choice\u001b[0;34m()\u001b[0m\n",
      "\u001b[0;31mValueError\u001b[0m: Cannot take a larger sample than population when 'replace=False'"
     ]
    }
   ],
   "source": [
    "# Sample a minibatch and show the images and captions\n",
    "size = 5\n",
    "indices = np.random.choice(len(train_set), size, replace=False)\n",
    "\n",
    "fig = plt.figure()\n",
    "\n",
    "for i, idx in enumerate(indices):\n",
    "    image, label = train_set[idx]\n",
    "    plt.subplot(1, size, i + 1)\n",
    "    plt.title(params['rbc_class_names'][label[0]])\n",
    "    plt.axis('off')\n",
    "    plt.imshow(image[0,:,:])\n",
    "    plt.show()"
   ]
  },
  {
   "cell_type": "markdown",
   "metadata": {},
   "source": [
    "## Load Model\n",
    "Load in DenseNet. Configure training parameters. "
   ]
  },
  {
   "cell_type": "code",
   "execution_count": 5,
   "metadata": {},
   "outputs": [
    {
     "name": "stdout",
     "output_type": "stream",
     "text": [
      "Total Parameters: 6968084\n"
     ]
    },
    {
     "name": "stderr",
     "output_type": "stream",
     "text": [
      "/home/feng/anaconda3/envs/rbc_env/lib/python3.6/site-packages/torch/nn/modules/container.py:13: UserWarning: nn.Container is deprecated. All of it's functionality is now implemented in nn.Module. Subclass that instead.\n",
      "  warnings.warn(\"nn.Container is deprecated. All of it's functionality \"\n"
     ]
    }
   ],
   "source": [
    "model = DenseNetEfficient(\n",
    "        growth_rate=32, \n",
    "        block_config=(6, 12, 24, 16), \n",
    "        compression=0.5,\n",
    "        num_init_features=64, \n",
    "        bn_size=4, \n",
    "        drop_rate=0,\n",
    "        num_classes=20, \n",
    "        small_inputs=False)\n",
    "# Move model to GPU\n",
    "model = model.cuda()\n",
    "# print(model)\n",
    "pytorch_total_params = sum(p.numel() for p in model.parameters() if p.requires_grad)\n",
    "print(\"Total Parameters: %i\" % pytorch_total_params)"
   ]
  },
  {
   "cell_type": "code",
   "execution_count": 7,
   "metadata": {},
   "outputs": [],
   "source": [
    "# Load an existing model trained on 20 categories\n",
    "model.load_state_dict(torch.load('/home/feng/ext2/feng/workspace/residential_building_challenge/output/cat_2_fmow_50000/model.dat'))"
   ]
  },
  {
   "cell_type": "code",
   "execution_count": 6,
   "metadata": {},
   "outputs": [],
   "source": [
    "# Modify the model to predict 2 categories\n",
    "# model.classifier = nn.Sequential(\n",
    "#               nn.Linear(1024, 128),\n",
    "#               nn.ReLU(),\n",
    "#               nn.Linear(128, 2))"
   ]
  },
  {
   "cell_type": "markdown",
   "metadata": {},
   "source": [
    "## Train Model\n",
    "Train the model one epoch at a time. Keep the verbose option on to monitor the loss during training. \n",
    "Save training and validation accuracy history for visualization. "
   ]
  },
  {
   "cell_type": "code",
   "execution_count": 8,
   "metadata": {},
   "outputs": [
    {
     "name": "stdout",
     "output_type": "stream",
     "text": [
      "Epoch: [1/10]\tIter: [1/1]\tTime 0.602 (0.602)\tLoss 4.7244 (4.7244)\tError 1.0000 (1.0000)\n",
      "mean image:\n",
      "284.40948486328125\n",
      "Valid\tIter: [1/1]\tTime 0.040 (0.040)\tLoss 3.4970 (3.4970)\tError 1.0000 (1.0000)\n",
      "[[0 0]\n",
      " [1 0]]\n",
      "Epoch: [2/10]\tIter: [1/1]\tTime 0.135 (0.135)\tLoss 1.2949 (1.2949)\tError 1.0000 (1.0000)\n",
      "mean image:\n",
      "284.40948486328125\n",
      "Valid\tIter: [1/1]\tTime 0.039 (0.039)\tLoss 1.5371 (1.5371)\tError 1.0000 (1.0000)\n",
      "[[0 0]\n",
      " [1 0]]\n",
      "Epoch: [3/10]\tIter: [1/1]\tTime 0.135 (0.135)\tLoss 0.0402 (0.0402)\tError 0.0000 (0.0000)\n",
      "mean image:\n",
      "284.40948486328125\n",
      "Valid\tIter: [1/1]\tTime 0.044 (0.044)\tLoss 0.8310 (0.8310)\tError 1.0000 (1.0000)\n",
      "[[0 0]\n",
      " [1 0]]\n",
      "Epoch: [4/10]\tIter: [1/1]\tTime 0.137 (0.137)\tLoss 0.0062 (0.0062)\tError 0.0000 (0.0000)\n",
      "mean image:\n",
      "284.40948486328125\n",
      "Valid\tIter: [1/1]\tTime 0.044 (0.044)\tLoss 0.4122 (0.4122)\tError 0.0000 (0.0000)\n",
      "[[0 0]\n",
      " [0 1]]\n",
      "New best error: 0.0000\n",
      "Epoch: [5/10]\tIter: [1/1]\tTime 0.136 (0.136)\tLoss 0.0015 (0.0015)\tError 0.0000 (0.0000)\n",
      "mean image:\n",
      "284.40948486328125\n",
      "Valid\tIter: [1/1]\tTime 0.042 (0.042)\tLoss 0.2052 (0.2052)\tError 0.0000 (0.0000)\n",
      "[[0 0]\n",
      " [0 1]]\n",
      "Epoch: [6/10]\tIter: [1/1]\tTime 0.156 (0.156)\tLoss 0.0006 (0.0006)\tError 0.0000 (0.0000)\n",
      "mean image:\n",
      "284.40948486328125\n",
      "Valid\tIter: [1/1]\tTime 0.046 (0.046)\tLoss 0.2640 (0.2640)\tError 0.0000 (0.0000)\n",
      "[[0 0]\n",
      " [0 1]]\n",
      "Epoch: [7/10]\tIter: [1/1]\tTime 0.138 (0.138)\tLoss 0.0006 (0.0006)\tError 0.0000 (0.0000)\n",
      "mean image:\n",
      "284.40948486328125\n",
      "Valid\tIter: [1/1]\tTime 0.042 (0.042)\tLoss 0.3314 (0.3314)\tError 0.0000 (0.0000)\n",
      "[[0 0]\n",
      " [0 1]]\n",
      "Epoch: [8/10]\tIter: [1/1]\tTime 0.135 (0.135)\tLoss 0.0006 (0.0006)\tError 0.0000 (0.0000)\n",
      "mean image:\n",
      "284.40948486328125\n",
      "Valid\tIter: [1/1]\tTime 0.044 (0.044)\tLoss 0.4218 (0.4218)\tError 0.0000 (0.0000)\n",
      "[[0 0]\n",
      " [0 1]]\n",
      "Epoch: [9/10]\tIter: [1/1]\tTime 0.136 (0.136)\tLoss 0.0005 (0.0005)\tError 0.0000 (0.0000)\n",
      "mean image:\n",
      "284.40948486328125\n",
      "Valid\tIter: [1/1]\tTime 0.044 (0.044)\tLoss 0.5702 (0.5702)\tError 0.0000 (0.0000)\n",
      "[[0 0]\n",
      " [0 1]]\n",
      "Epoch: [10/10]\tIter: [1/1]\tTime 0.137 (0.137)\tLoss 0.0005 (0.0005)\tError 0.0000 (0.0000)\n",
      "mean image:\n",
      "284.40948486328125\n",
      "Valid\tIter: [1/1]\tTime 0.045 (0.045)\tLoss 0.7467 (0.7467)\tError 1.0000 (1.0000)\n",
      "[[0 0]\n",
      " [1 0]]\n"
     ]
    },
    {
     "ename": "TypeError",
     "evalue": "object of type 'NoneType' has no len()",
     "output_type": "error",
     "traceback": [
      "\u001b[0;31m---------------------------------------------------------------------------\u001b[0m",
      "\u001b[0;31mTypeError\u001b[0m                                 Traceback (most recent call last)",
      "\u001b[0;32m<ipython-input-8-6a6d7ee7e874>\u001b[0m in \u001b[0;36m<module>\u001b[0;34m()\u001b[0m\n\u001b[1;32m      9\u001b[0m       \u001b[0mwd\u001b[0m\u001b[0;34m=\u001b[0m\u001b[0;36m0.0001\u001b[0m\u001b[0;34m,\u001b[0m\u001b[0;34m\u001b[0m\u001b[0m\n\u001b[1;32m     10\u001b[0m       \u001b[0mmomentum\u001b[0m\u001b[0;34m=\u001b[0m\u001b[0;36m0.9\u001b[0m\u001b[0;34m,\u001b[0m\u001b[0;34m\u001b[0m\u001b[0m\n\u001b[0;32m---> 11\u001b[0;31m       seed=None)\n\u001b[0m",
      "\u001b[0;32m/ext2/feng/feng/workspace/residential_building_challenge/solver.py\u001b[0m in \u001b[0;36mtrain\u001b[0;34m(model, train_set, test_set, save, n_epochs, valid_size, batch_size, lr, wd, momentum, seed)\u001b[0m\n\u001b[1;32m    203\u001b[0m         \u001b[0mmodel\u001b[0m\u001b[0;34m=\u001b[0m\u001b[0mmodel\u001b[0m\u001b[0;34m,\u001b[0m\u001b[0;34m\u001b[0m\u001b[0m\n\u001b[1;32m    204\u001b[0m         \u001b[0mloader\u001b[0m\u001b[0;34m=\u001b[0m\u001b[0mtest_loader\u001b[0m\u001b[0;34m,\u001b[0m\u001b[0;34m\u001b[0m\u001b[0m\n\u001b[0;32m--> 205\u001b[0;31m         \u001b[0mis_test\u001b[0m\u001b[0;34m=\u001b[0m\u001b[0;32mTrue\u001b[0m\u001b[0;34m\u001b[0m\u001b[0m\n\u001b[0m\u001b[1;32m    206\u001b[0m     )\n\u001b[1;32m    207\u001b[0m     \u001b[0m_\u001b[0m\u001b[0;34m,\u001b[0m \u001b[0m_\u001b[0m\u001b[0;34m,\u001b[0m \u001b[0mtest_error\u001b[0m \u001b[0;34m=\u001b[0m \u001b[0mtest_results\u001b[0m\u001b[0;34m\u001b[0m\u001b[0m\n",
      "\u001b[0;32m/ext2/feng/feng/workspace/residential_building_challenge/solver.py\u001b[0m in \u001b[0;36mtest_epoch\u001b[0;34m(model, loader, print_freq, is_test)\u001b[0m\n\u001b[1;32m     76\u001b[0m \u001b[0;34m\u001b[0m\u001b[0m\n\u001b[1;32m     77\u001b[0m     \u001b[0mend\u001b[0m \u001b[0;34m=\u001b[0m \u001b[0mtime\u001b[0m\u001b[0;34m.\u001b[0m\u001b[0mtime\u001b[0m\u001b[0;34m(\u001b[0m\u001b[0;34m)\u001b[0m\u001b[0;34m\u001b[0m\u001b[0m\n\u001b[0;32m---> 78\u001b[0;31m     \u001b[0;32mfor\u001b[0m \u001b[0mbatch_idx\u001b[0m\u001b[0;34m,\u001b[0m \u001b[0;34m(\u001b[0m\u001b[0minput\u001b[0m\u001b[0;34m,\u001b[0m \u001b[0mtarget\u001b[0m\u001b[0;34m)\u001b[0m \u001b[0;32min\u001b[0m \u001b[0menumerate\u001b[0m\u001b[0;34m(\u001b[0m\u001b[0mloader\u001b[0m\u001b[0;34m)\u001b[0m\u001b[0;34m:\u001b[0m\u001b[0;34m\u001b[0m\u001b[0m\n\u001b[0m\u001b[1;32m     79\u001b[0m         \u001b[0mtarget\u001b[0m \u001b[0;34m=\u001b[0m \u001b[0mtarget\u001b[0m\u001b[0;34m[\u001b[0m\u001b[0;34m:\u001b[0m\u001b[0;34m,\u001b[0m\u001b[0;36m0\u001b[0m\u001b[0;34m]\u001b[0m\u001b[0;34m\u001b[0m\u001b[0m\n\u001b[1;32m     80\u001b[0m         \u001b[0;31m# Create vaiables\u001b[0m\u001b[0;34m\u001b[0m\u001b[0;34m\u001b[0m\u001b[0m\n",
      "\u001b[0;32m~/anaconda3/envs/rbc_env/lib/python3.6/site-packages/torch/utils/data/dataloader.py\u001b[0m in \u001b[0;36m__next__\u001b[0;34m(self)\u001b[0m\n\u001b[1;32m    185\u001b[0m     \u001b[0;32mdef\u001b[0m \u001b[0m__next__\u001b[0m\u001b[0;34m(\u001b[0m\u001b[0mself\u001b[0m\u001b[0;34m)\u001b[0m\u001b[0;34m:\u001b[0m\u001b[0;34m\u001b[0m\u001b[0m\n\u001b[1;32m    186\u001b[0m         \u001b[0;32mif\u001b[0m \u001b[0mself\u001b[0m\u001b[0;34m.\u001b[0m\u001b[0mnum_workers\u001b[0m \u001b[0;34m==\u001b[0m \u001b[0;36m0\u001b[0m\u001b[0;34m:\u001b[0m  \u001b[0;31m# same-process loading\u001b[0m\u001b[0;34m\u001b[0m\u001b[0m\n\u001b[0;32m--> 187\u001b[0;31m             \u001b[0mindices\u001b[0m \u001b[0;34m=\u001b[0m \u001b[0mnext\u001b[0m\u001b[0;34m(\u001b[0m\u001b[0mself\u001b[0m\u001b[0;34m.\u001b[0m\u001b[0msample_iter\u001b[0m\u001b[0;34m)\u001b[0m  \u001b[0;31m# may raise StopIteration\u001b[0m\u001b[0;34m\u001b[0m\u001b[0m\n\u001b[0m\u001b[1;32m    188\u001b[0m             \u001b[0mbatch\u001b[0m \u001b[0;34m=\u001b[0m \u001b[0mself\u001b[0m\u001b[0;34m.\u001b[0m\u001b[0mcollate_fn\u001b[0m\u001b[0;34m(\u001b[0m\u001b[0;34m[\u001b[0m\u001b[0mself\u001b[0m\u001b[0;34m.\u001b[0m\u001b[0mdataset\u001b[0m\u001b[0;34m[\u001b[0m\u001b[0mi\u001b[0m\u001b[0;34m]\u001b[0m \u001b[0;32mfor\u001b[0m \u001b[0mi\u001b[0m \u001b[0;32min\u001b[0m \u001b[0mindices\u001b[0m\u001b[0;34m]\u001b[0m\u001b[0;34m)\u001b[0m\u001b[0;34m\u001b[0m\u001b[0m\n\u001b[1;32m    189\u001b[0m             \u001b[0;32mif\u001b[0m \u001b[0mself\u001b[0m\u001b[0;34m.\u001b[0m\u001b[0mpin_memory\u001b[0m\u001b[0;34m:\u001b[0m\u001b[0;34m\u001b[0m\u001b[0m\n",
      "\u001b[0;32m~/anaconda3/envs/rbc_env/lib/python3.6/site-packages/torch/utils/data/sampler.py\u001b[0m in \u001b[0;36m__iter__\u001b[0;34m(self)\u001b[0m\n\u001b[1;32m    117\u001b[0m     \u001b[0;32mdef\u001b[0m \u001b[0m__iter__\u001b[0m\u001b[0;34m(\u001b[0m\u001b[0mself\u001b[0m\u001b[0;34m)\u001b[0m\u001b[0;34m:\u001b[0m\u001b[0;34m\u001b[0m\u001b[0m\n\u001b[1;32m    118\u001b[0m         \u001b[0mbatch\u001b[0m \u001b[0;34m=\u001b[0m \u001b[0;34m[\u001b[0m\u001b[0;34m]\u001b[0m\u001b[0;34m\u001b[0m\u001b[0m\n\u001b[0;32m--> 119\u001b[0;31m         \u001b[0;32mfor\u001b[0m \u001b[0midx\u001b[0m \u001b[0;32min\u001b[0m \u001b[0mself\u001b[0m\u001b[0;34m.\u001b[0m\u001b[0msampler\u001b[0m\u001b[0;34m:\u001b[0m\u001b[0;34m\u001b[0m\u001b[0m\n\u001b[0m\u001b[1;32m    120\u001b[0m             \u001b[0mbatch\u001b[0m\u001b[0;34m.\u001b[0m\u001b[0mappend\u001b[0m\u001b[0;34m(\u001b[0m\u001b[0midx\u001b[0m\u001b[0;34m)\u001b[0m\u001b[0;34m\u001b[0m\u001b[0m\n\u001b[1;32m    121\u001b[0m             \u001b[0;32mif\u001b[0m \u001b[0mlen\u001b[0m\u001b[0;34m(\u001b[0m\u001b[0mbatch\u001b[0m\u001b[0;34m)\u001b[0m \u001b[0;34m==\u001b[0m \u001b[0mself\u001b[0m\u001b[0;34m.\u001b[0m\u001b[0mbatch_size\u001b[0m\u001b[0;34m:\u001b[0m\u001b[0;34m\u001b[0m\u001b[0m\n",
      "\u001b[0;32m~/anaconda3/envs/rbc_env/lib/python3.6/site-packages/torch/utils/data/sampler.py\u001b[0m in \u001b[0;36m__iter__\u001b[0;34m(self)\u001b[0m\n\u001b[1;32m     31\u001b[0m \u001b[0;34m\u001b[0m\u001b[0m\n\u001b[1;32m     32\u001b[0m     \u001b[0;32mdef\u001b[0m \u001b[0m__iter__\u001b[0m\u001b[0;34m(\u001b[0m\u001b[0mself\u001b[0m\u001b[0;34m)\u001b[0m\u001b[0;34m:\u001b[0m\u001b[0;34m\u001b[0m\u001b[0m\n\u001b[0;32m---> 33\u001b[0;31m         \u001b[0;32mreturn\u001b[0m \u001b[0miter\u001b[0m\u001b[0;34m(\u001b[0m\u001b[0mrange\u001b[0m\u001b[0;34m(\u001b[0m\u001b[0mlen\u001b[0m\u001b[0;34m(\u001b[0m\u001b[0mself\u001b[0m\u001b[0;34m.\u001b[0m\u001b[0mdata_source\u001b[0m\u001b[0;34m)\u001b[0m\u001b[0;34m)\u001b[0m\u001b[0;34m)\u001b[0m\u001b[0;34m\u001b[0m\u001b[0m\n\u001b[0m\u001b[1;32m     34\u001b[0m \u001b[0;34m\u001b[0m\u001b[0m\n\u001b[1;32m     35\u001b[0m     \u001b[0;32mdef\u001b[0m \u001b[0m__len__\u001b[0m\u001b[0;34m(\u001b[0m\u001b[0mself\u001b[0m\u001b[0;34m)\u001b[0m\u001b[0;34m:\u001b[0m\u001b[0;34m\u001b[0m\u001b[0m\n",
      "\u001b[0;31mTypeError\u001b[0m: object of type 'NoneType' has no len()"
     ]
    }
   ],
   "source": [
    "train(model, \n",
    "      train_set, \n",
    "      None, \n",
    "      '/home/feng/ext2/feng/workspace/residential_building_challenge/output/cat_2_fmow_50000_wake_5', \n",
    "      n_epochs=10, \n",
    "      valid_size=1,\n",
    "      batch_size=50, \n",
    "      lr=0.01, \n",
    "      wd=0.0001, \n",
    "      momentum=0.9, \n",
    "      seed=None)"
   ]
  },
  {
   "cell_type": "markdown",
   "metadata": {},
   "source": [
    "## Visualization\n",
    "Visualize training and validation accuracy throughout training history. \n",
    "Visualize loss function. "
   ]
  },
  {
   "cell_type": "code",
   "execution_count": 9,
   "metadata": {},
   "outputs": [
    {
     "data": {
      "image/png": "[encoded data removed]",
      "text/plain": [
       "<Figure size 432x288 with 2 Axes>"
      ]
     },
     "metadata": {},
     "output_type": "display_data"
    }
   ],
   "source": [
    "train_loss = []\n",
    "train_acc = []\n",
    "valid_loss = []\n",
    "valid_acc = []\n",
    "\n",
    "with open(os.path.join('/home/feng/ext2/feng/workspace/residential_building_challenge/output/cat_2_fmow_50000_wake_5', 'results.csv'), 'r') as f:\n",
    "        for line in f:\n",
    "            numbers = line.split(',')\n",
    "            if(numbers[0]=='epoch'):\n",
    "                continue\n",
    "            try:\n",
    "                train_loss.append(float(numbers[1]))\n",
    "                train_acc.append(1-float(numbers[2]))\n",
    "                valid_loss.append(float(numbers[3]))\n",
    "                valid_acc.append(1-float(numbers[4]))\n",
    "            except ValueError:\n",
    "                continue\n",
    "\n",
    "\n",
    "# Visualize loss history and training/validation accuracy history\n",
    "plt.subplot(2, 1, 1)\n",
    "plt.plot(train_loss, 'o')\n",
    "plt.xlabel('iteration')\n",
    "plt.ylabel('loss')\n",
    "\n",
    "plt.subplot(2, 1, 2)\n",
    "plt.plot(train_acc, '-o')\n",
    "plt.plot(valid_acc, '-o')\n",
    "plt.legend(['train', 'val'], loc='lower right')\n",
    "plt.xlabel('epoch')\n",
    "plt.ylabel('accuracy')\n",
    "plt.show()"
   ]
  },
  {
   "cell_type": "markdown",
   "metadata": {},
   "source": [
    "## Test Model\n",
    "Make predictions based on test dataset. Visually assess the quality of prediction and compute accuracy based on groundtruth. "
   ]
  },
  {
   "cell_type": "code",
   "execution_count": 10,
   "metadata": {
    "scrolled": true
   },
   "outputs": [
    {
     "name": "stdout",
     "output_type": "stream",
     "text": [
      "Test\tIter: [1/135]\tTime 0.144 (0.144)\tLoss 1.8592 (1.8592)\tError 0.5000 (0.5000)\n",
      "Test\tIter: [2/135]\tTime 0.107 (0.126)\tLoss 1.4594 (1.6593)\tError 0.2500 (0.3750)\n",
      "Test\tIter: [3/135]\tTime 0.093 (0.115)\tLoss 1.1019 (1.4735)\tError 0.2500 (0.3333)\n",
      "Test\tIter: [4/135]\tTime 0.092 (0.109)\tLoss 0.8108 (1.3078)\tError 0.1875 (0.2969)\n",
      "Test\tIter: [5/135]\tTime 0.090 (0.105)\tLoss 0.9211 (1.2305)\tError 0.3750 (0.3125)\n",
      "Test\tIter: [6/135]\tTime 0.089 (0.103)\tLoss 1.9386 (1.3485)\tError 0.5000 (0.3438)\n",
      "Test\tIter: [7/135]\tTime 0.088 (0.101)\tLoss 1.6576 (1.3927)\tError 0.3125 (0.3393)\n",
      "Test\tIter: [8/135]\tTime 0.090 (0.099)\tLoss 1.6072 (1.4195)\tError 0.3750 (0.3438)\n",
      "Test\tIter: [9/135]\tTime 0.088 (0.098)\tLoss 1.6655 (1.4468)\tError 0.5000 (0.3611)\n",
      "Test\tIter: [10/135]\tTime 0.089 (0.097)\tLoss 0.8708 (1.3892)\tError 0.1875 (0.3438)\n",
      "Test\tIter: [11/135]\tTime 0.090 (0.096)\tLoss 1.1061 (1.3635)\tError 0.3750 (0.3466)\n",
      "Test\tIter: [12/135]\tTime 0.086 (0.096)\tLoss 0.7000 (1.3082)\tError 0.1875 (0.3333)\n",
      "Test\tIter: [13/135]\tTime 0.082 (0.095)\tLoss 1.6652 (1.3357)\tError 0.2500 (0.3269)\n",
      "Test\tIter: [14/135]\tTime 0.082 (0.094)\tLoss 0.9637 (1.3091)\tError 0.3125 (0.3259)\n",
      "Test\tIter: [15/135]\tTime 0.083 (0.093)\tLoss 2.4579 (1.3857)\tError 0.5625 (0.3417)\n",
      "Test\tIter: [16/135]\tTime 0.081 (0.092)\tLoss 0.9561 (1.3588)\tError 0.3125 (0.3398)\n",
      "Test\tIter: [17/135]\tTime 0.082 (0.092)\tLoss 1.1062 (1.3440)\tError 0.2500 (0.3346)\n",
      "Test\tIter: [18/135]\tTime 0.084 (0.091)\tLoss 1.0484 (1.3275)\tError 0.3750 (0.3368)\n",
      "Test\tIter: [19/135]\tTime 0.083 (0.091)\tLoss 0.7595 (1.2976)\tError 0.1250 (0.3257)\n",
      "Test\tIter: [20/135]\tTime 0.082 (0.090)\tLoss 2.4526 (1.3554)\tError 0.5625 (0.3375)\n",
      "Test\tIter: [21/135]\tTime 0.083 (0.090)\tLoss 0.5729 (1.3181)\tError 0.2500 (0.3333)\n",
      "Test\tIter: [22/135]\tTime 0.085 (0.090)\tLoss 2.8934 (1.3897)\tError 0.5625 (0.3438)\n",
      "Test\tIter: [23/135]\tTime 0.082 (0.089)\tLoss 1.0226 (1.3738)\tError 0.3125 (0.3424)\n",
      "Test\tIter: [24/135]\tTime 0.082 (0.089)\tLoss 0.5184 (1.3381)\tError 0.1875 (0.3359)\n",
      "Test\tIter: [25/135]\tTime 0.080 (0.089)\tLoss 1.2293 (1.3338)\tError 0.2500 (0.3325)\n",
      "Test\tIter: [26/135]\tTime 0.082 (0.088)\tLoss 1.2927 (1.3322)\tError 0.3125 (0.3317)\n",
      "Test\tIter: [27/135]\tTime 0.081 (0.088)\tLoss 0.5257 (1.3023)\tError 0.3125 (0.3310)\n",
      "Test\tIter: [28/135]\tTime 0.083 (0.088)\tLoss 0.2512 (1.2648)\tError 0.1250 (0.3237)\n",
      "Test\tIter: [29/135]\tTime 0.083 (0.088)\tLoss 1.1468 (1.2607)\tError 0.5000 (0.3297)\n",
      "Test\tIter: [30/135]\tTime 0.083 (0.088)\tLoss 1.0818 (1.2548)\tError 0.2500 (0.3271)\n",
      "Test\tIter: [31/135]\tTime 0.082 (0.087)\tLoss 2.8498 (1.3062)\tError 0.5000 (0.3327)\n",
      "Test\tIter: [32/135]\tTime 0.081 (0.087)\tLoss 0.9139 (1.2940)\tError 0.2500 (0.3301)\n",
      "Test\tIter: [33/135]\tTime 0.082 (0.087)\tLoss 1.6038 (1.3033)\tError 0.3750 (0.3314)\n",
      "Test\tIter: [34/135]\tTime 0.083 (0.087)\tLoss 0.9174 (1.2920)\tError 0.3750 (0.3327)\n",
      "Test\tIter: [35/135]\tTime 0.082 (0.087)\tLoss 0.6634 (1.2740)\tError 0.3125 (0.3321)\n",
      "Test\tIter: [36/135]\tTime 0.081 (0.087)\tLoss 1.4363 (1.2785)\tError 0.3125 (0.3316)\n",
      "Test\tIter: [37/135]\tTime 0.082 (0.087)\tLoss 1.0935 (1.2735)\tError 0.3125 (0.3311)\n",
      "Test\tIter: [38/135]\tTime 0.082 (0.086)\tLoss 2.1827 (1.2975)\tError 0.5000 (0.3355)\n",
      "Test\tIter: [39/135]\tTime 0.081 (0.086)\tLoss 1.7262 (1.3085)\tError 0.4375 (0.3381)\n",
      "Test\tIter: [40/135]\tTime 0.083 (0.086)\tLoss 1.3059 (1.3084)\tError 0.3750 (0.3391)\n",
      "Test\tIter: [41/135]\tTime 0.083 (0.086)\tLoss 1.9569 (1.3242)\tError 0.4375 (0.3415)\n",
      "Test\tIter: [42/135]\tTime 0.082 (0.086)\tLoss 1.7278 (1.3338)\tError 0.6250 (0.3482)\n",
      "Test\tIter: [43/135]\tTime 0.082 (0.086)\tLoss 0.6950 (1.3190)\tError 0.1875 (0.3445)\n",
      "Test\tIter: [44/135]\tTime 0.082 (0.086)\tLoss 1.8219 (1.3304)\tError 0.3750 (0.3452)\n",
      "Test\tIter: [45/135]\tTime 0.083 (0.086)\tLoss 0.8538 (1.3198)\tError 0.1875 (0.3417)\n",
      "Test\tIter: [46/135]\tTime 0.082 (0.086)\tLoss 0.7682 (1.3078)\tError 0.3125 (0.3410)\n",
      "Test\tIter: [47/135]\tTime 0.082 (0.086)\tLoss 0.6072 (1.2929)\tError 0.1250 (0.3364)\n",
      "Test\tIter: [48/135]\tTime 0.083 (0.086)\tLoss 1.2509 (1.2920)\tError 0.2500 (0.3346)\n",
      "Test\tIter: [49/135]\tTime 0.085 (0.086)\tLoss 0.6861 (1.2797)\tError 0.3125 (0.3342)\n",
      "Test\tIter: [50/135]\tTime 0.083 (0.086)\tLoss 0.9795 (1.2737)\tError 0.3750 (0.3350)\n",
      "Test\tIter: [51/135]\tTime 0.083 (0.085)\tLoss 0.4585 (1.2577)\tError 0.1875 (0.3321)\n",
      "Test\tIter: [52/135]\tTime 0.084 (0.085)\tLoss 1.0141 (1.2530)\tError 0.4375 (0.3341)\n",
      "Test\tIter: [53/135]\tTime 0.082 (0.085)\tLoss 0.7436 (1.2434)\tError 0.1875 (0.3314)\n",
      "Test\tIter: [54/135]\tTime 0.083 (0.085)\tLoss 1.0421 (1.2397)\tError 0.1250 (0.3275)\n",
      "Test\tIter: [55/135]\tTime 0.082 (0.085)\tLoss 1.1000 (1.2371)\tError 0.1875 (0.3250)\n",
      "Test\tIter: [56/135]\tTime 0.083 (0.085)\tLoss 0.2238 (1.2190)\tError 0.0625 (0.3203)\n",
      "Test\tIter: [57/135]\tTime 0.083 (0.085)\tLoss 0.8502 (1.2125)\tError 0.1250 (0.3169)\n",
      "Test\tIter: [58/135]\tTime 0.082 (0.085)\tLoss 0.9773 (1.2085)\tError 0.2500 (0.3157)\n",
      "Test\tIter: [59/135]\tTime 0.082 (0.085)\tLoss 0.5514 (1.1974)\tError 0.1250 (0.3125)\n",
      "Test\tIter: [60/135]\tTime 0.081 (0.085)\tLoss 1.2888 (1.1989)\tError 0.3125 (0.3125)\n",
      "Test\tIter: [61/135]\tTime 0.083 (0.085)\tLoss 1.6548 (1.2064)\tError 0.3750 (0.3135)\n",
      "Test\tIter: [62/135]\tTime 0.082 (0.085)\tLoss 1.1137 (1.2049)\tError 0.3750 (0.3145)\n",
      "Test\tIter: [63/135]\tTime 0.083 (0.085)\tLoss 1.3508 (1.2072)\tError 0.5000 (0.3175)\n",
      "Test\tIter: [64/135]\tTime 0.083 (0.085)\tLoss 1.1646 (1.2065)\tError 0.3750 (0.3184)\n",
      "Test\tIter: [65/135]\tTime 0.081 (0.085)\tLoss 0.9815 (1.2031)\tError 0.2500 (0.3173)\n",
      "Test\tIter: [66/135]\tTime 0.082 (0.085)\tLoss 1.1708 (1.2026)\tError 0.2500 (0.3163)\n",
      "Test\tIter: [67/135]\tTime 0.083 (0.085)\tLoss 0.8106 (1.1967)\tError 0.3125 (0.3162)\n",
      "Test\tIter: [68/135]\tTime 0.083 (0.085)\tLoss 1.0654 (1.1948)\tError 0.3750 (0.3171)\n",
      "Test\tIter: [69/135]\tTime 0.083 (0.085)\tLoss 0.9296 (1.1909)\tError 0.1875 (0.3152)\n",
      "Test\tIter: [70/135]\tTime 0.081 (0.085)\tLoss 0.3911 (1.1795)\tError 0.1875 (0.3134)\n",
      "Test\tIter: [71/135]\tTime 0.082 (0.085)\tLoss 2.0127 (1.1912)\tError 0.4375 (0.3151)\n",
      "Test\tIter: [72/135]\tTime 0.083 (0.085)\tLoss 0.6088 (1.1832)\tError 0.1250 (0.3125)\n",
      "Test\tIter: [73/135]\tTime 0.084 (0.085)\tLoss 1.7079 (1.1903)\tError 0.4375 (0.3142)\n",
      "Test\tIter: [74/135]\tTime 0.084 (0.085)\tLoss 1.4822 (1.1943)\tError 0.3125 (0.3142)\n",
      "Test\tIter: [75/135]\tTime 0.083 (0.085)\tLoss 0.7863 (1.1888)\tError 0.4375 (0.3158)\n",
      "Test\tIter: [76/135]\tTime 0.083 (0.085)\tLoss 0.9990 (1.1864)\tError 0.3125 (0.3158)\n",
      "Test\tIter: [77/135]\tTime 0.082 (0.084)\tLoss 1.4221 (1.1894)\tError 0.3125 (0.3157)\n",
      "Test\tIter: [78/135]\tTime 0.084 (0.084)\tLoss 0.7807 (1.1842)\tError 0.2500 (0.3149)\n",
      "Test\tIter: [79/135]\tTime 0.083 (0.084)\tLoss 1.3987 (1.1869)\tError 0.2500 (0.3141)\n",
      "Test\tIter: [80/135]\tTime 0.082 (0.084)\tLoss 1.0149 (1.1847)\tError 0.2500 (0.3133)\n",
      "Test\tIter: [81/135]\tTime 0.083 (0.084)\tLoss 0.5580 (1.1770)\tError 0.2500 (0.3125)\n",
      "Test\tIter: [82/135]\tTime 0.084 (0.084)\tLoss 0.6822 (1.1710)\tError 0.2500 (0.3117)\n",
      "Test\tIter: [83/135]\tTime 0.082 (0.084)\tLoss 0.8524 (1.1671)\tError 0.1250 (0.3095)\n",
      "Test\tIter: [84/135]\tTime 0.084 (0.084)\tLoss 1.1837 (1.1673)\tError 0.3125 (0.3095)\n",
      "Test\tIter: [85/135]\tTime 0.082 (0.084)\tLoss 1.3077 (1.1690)\tError 0.4375 (0.3110)\n",
      "Test\tIter: [86/135]\tTime 0.085 (0.084)\tLoss 1.1311 (1.1685)\tError 0.2500 (0.3103)\n",
      "Test\tIter: [87/135]\tTime 0.082 (0.084)\tLoss 0.8674 (1.1651)\tError 0.1875 (0.3089)\n",
      "Test\tIter: [88/135]\tTime 0.083 (0.084)\tLoss 0.3147 (1.1554)\tError 0.1250 (0.3068)\n",
      "Test\tIter: [89/135]\tTime 0.083 (0.084)\tLoss 1.2872 (1.1569)\tError 0.4375 (0.3083)\n",
      "Test\tIter: [90/135]\tTime 0.083 (0.084)\tLoss 0.7732 (1.1526)\tError 0.2500 (0.3076)\n",
      "Test\tIter: [91/135]\tTime 0.082 (0.084)\tLoss 2.4914 (1.1673)\tError 0.5625 (0.3104)\n",
      "Test\tIter: [92/135]\tTime 0.085 (0.084)\tLoss 1.2283 (1.1680)\tError 0.3125 (0.3105)\n",
      "Test\tIter: [93/135]\tTime 0.082 (0.084)\tLoss 0.9324 (1.1655)\tError 0.3750 (0.3112)\n",
      "Test\tIter: [94/135]\tTime 0.082 (0.084)\tLoss 1.0735 (1.1645)\tError 0.2500 (0.3105)\n",
      "Test\tIter: [95/135]\tTime 0.081 (0.084)\tLoss 1.4348 (1.1673)\tError 0.3750 (0.3112)\n",
      "Test\tIter: [96/135]\tTime 0.083 (0.084)\tLoss 2.0412 (1.1764)\tError 0.5000 (0.3132)\n",
      "Test\tIter: [97/135]\tTime 0.082 (0.084)\tLoss 0.9438 (1.1740)\tError 0.1875 (0.3119)\n",
      "Test\tIter: [98/135]\tTime 0.082 (0.084)\tLoss 1.0340 (1.1726)\tError 0.3125 (0.3119)\n",
      "Test\tIter: [99/135]\tTime 0.082 (0.084)\tLoss 0.6269 (1.1671)\tError 0.2500 (0.3112)\n",
      "Test\tIter: [100/135]\tTime 0.082 (0.084)\tLoss 0.2197 (1.1576)\tError 0.1250 (0.3094)\n",
      "Test\tIter: [101/135]\tTime 0.082 (0.084)\tLoss 0.9311 (1.1554)\tError 0.2500 (0.3088)\n",
      "Test\tIter: [102/135]\tTime 0.083 (0.084)\tLoss 0.5804 (1.1497)\tError 0.2500 (0.3082)\n"
     ]
    },
    {
     "name": "stdout",
     "output_type": "stream",
     "text": [
      "Test\tIter: [103/135]\tTime 0.083 (0.084)\tLoss 1.2242 (1.1505)\tError 0.3750 (0.3089)\n",
      "Test\tIter: [104/135]\tTime 0.084 (0.084)\tLoss 0.5557 (1.1448)\tError 0.2500 (0.3083)\n",
      "Test\tIter: [105/135]\tTime 0.083 (0.084)\tLoss 0.4877 (1.1385)\tError 0.1250 (0.3065)\n",
      "Test\tIter: [106/135]\tTime 0.081 (0.084)\tLoss 1.4023 (1.1410)\tError 0.2500 (0.3060)\n",
      "Test\tIter: [107/135]\tTime 0.083 (0.084)\tLoss 0.6813 (1.1367)\tError 0.1250 (0.3043)\n",
      "Test\tIter: [108/135]\tTime 0.081 (0.084)\tLoss 0.4093 (1.1300)\tError 0.1250 (0.3027)\n",
      "Test\tIter: [109/135]\tTime 0.083 (0.084)\tLoss 0.5982 (1.1251)\tError 0.3125 (0.3028)\n",
      "Test\tIter: [110/135]\tTime 0.083 (0.084)\tLoss 0.9662 (1.1236)\tError 0.3125 (0.3028)\n",
      "Test\tIter: [111/135]\tTime 0.084 (0.084)\tLoss 1.7744 (1.1295)\tError 0.2500 (0.3024)\n",
      "Test\tIter: [112/135]\tTime 0.082 (0.084)\tLoss 0.4405 (1.1233)\tError 0.1250 (0.3008)\n",
      "Test\tIter: [113/135]\tTime 0.082 (0.084)\tLoss 0.8622 (1.1210)\tError 0.2500 (0.3003)\n",
      "Test\tIter: [114/135]\tTime 0.082 (0.084)\tLoss 1.0937 (1.1208)\tError 0.2500 (0.2999)\n",
      "Test\tIter: [115/135]\tTime 0.081 (0.084)\tLoss 1.5490 (1.1245)\tError 0.5000 (0.3016)\n",
      "Test\tIter: [116/135]\tTime 0.082 (0.084)\tLoss 0.5341 (1.1194)\tError 0.1875 (0.3006)\n",
      "Test\tIter: [117/135]\tTime 0.082 (0.084)\tLoss 1.4054 (1.1219)\tError 0.2500 (0.3002)\n",
      "Test\tIter: [118/135]\tTime 0.083 (0.084)\tLoss 1.4128 (1.1243)\tError 0.4375 (0.3014)\n",
      "Test\tIter: [119/135]\tTime 0.083 (0.084)\tLoss 1.0562 (1.1238)\tError 0.3125 (0.3015)\n",
      "Test\tIter: [120/135]\tTime 0.082 (0.084)\tLoss 0.8112 (1.1212)\tError 0.3125 (0.3016)\n",
      "Test\tIter: [121/135]\tTime 0.081 (0.084)\tLoss 0.8637 (1.1190)\tError 0.1875 (0.3006)\n",
      "Test\tIter: [122/135]\tTime 0.083 (0.084)\tLoss 1.2448 (1.1201)\tError 0.1875 (0.2997)\n",
      "Test\tIter: [123/135]\tTime 0.081 (0.084)\tLoss 0.6806 (1.1165)\tError 0.1875 (0.2988)\n",
      "Test\tIter: [124/135]\tTime 0.082 (0.084)\tLoss 1.0066 (1.1156)\tError 0.1875 (0.2979)\n",
      "Test\tIter: [125/135]\tTime 0.081 (0.084)\tLoss 1.2386 (1.1166)\tError 0.4375 (0.2990)\n",
      "Test\tIter: [126/135]\tTime 0.083 (0.084)\tLoss 1.2252 (1.1174)\tError 0.3125 (0.2991)\n",
      "Test\tIter: [127/135]\tTime 0.083 (0.084)\tLoss 1.5454 (1.1208)\tError 0.4375 (0.3002)\n",
      "Test\tIter: [128/135]\tTime 0.083 (0.084)\tLoss 0.6285 (1.1170)\tError 0.0625 (0.2983)\n",
      "Test\tIter: [129/135]\tTime 0.082 (0.084)\tLoss 0.6349 (1.1132)\tError 0.0625 (0.2965)\n",
      "Test\tIter: [130/135]\tTime 0.083 (0.084)\tLoss 1.4803 (1.1161)\tError 0.3750 (0.2971)\n",
      "Test\tIter: [131/135]\tTime 0.082 (0.084)\tLoss 1.3973 (1.1182)\tError 0.3125 (0.2972)\n",
      "Test\tIter: [132/135]\tTime 0.082 (0.084)\tLoss 1.4218 (1.1205)\tError 0.3125 (0.2973)\n",
      "Test\tIter: [133/135]\tTime 0.084 (0.084)\tLoss 1.3826 (1.1225)\tError 0.5000 (0.2989)\n",
      "Test\tIter: [134/135]\tTime 0.082 (0.084)\tLoss 0.3421 (1.1167)\tError 0.0625 (0.2971)\n",
      "Test\tIter: [135/135]\tTime 0.029 (0.083)\tLoss 0.0109 (1.1146)\tError 0.0000 (0.2966)\n",
      "[[ 391  476]\n",
      " [ 161 1120]]\n"
     ]
    },
    {
     "data": {
      "text/plain": [
       "(0.08324949653060348, 1.11459296137039, 0.29655493482309125)"
      ]
     },
     "execution_count": 10,
     "metadata": {},
     "output_type": "execute_result"
    }
   ],
   "source": [
    "# Check accuracy of model on Test set\n",
    "test_loader = torch.utils.data.DataLoader(test_set, batch_size=16, shuffle=False,\n",
    "                                              pin_memory=(torch.cuda.is_available()), num_workers=0)\n",
    "test_epoch(model, test_loader)"
   ]
  },
  {
   "cell_type": "markdown",
   "metadata": {},
   "source": [
    "### Visualize Successful and Failed Examples"
   ]
  },
  {
   "cell_type": "code",
   "execution_count": null,
   "metadata": {},
   "outputs": [],
   "source": [
    "X_success = np.array([]).reshape((0, 1, 200, 200))\n",
    "y_success = np.array([]).reshape((0,))\n",
    "X_failure = np.array([]).reshape((0, 1, 200, 200))\n",
    "y_failure = np.array([]).reshape((0,))\n",
    "\n",
    "model.eval() \n",
    "for X, y in loader_test:\n",
    "    X_var = Variable(X.type(dtype), volatile=True)\n",
    "    scores = model(X_var)\n",
    "    _, preds = scores.data.cpu().max(1)\n",
    "    idx_success = (preds == y).numpy() == 1\n",
    "    idx_failure = (preds != y).numpy() == 1\n",
    "    X = X.numpy()\n",
    "    y = y.numpy()\n",
    "    X_success = np.append(X_success, X[idx_success.tolist(), :, :, :], axis=0)\n",
    "    y_success = np.append(y_success, y[idx_success.tolist(), ], axis=0)\n",
    "    X_failure = np.append(X_failure, X[idx_failure.tolist(), :, :, :], axis=0)\n",
    "    y_failure = np.append(y_failure, preds[idx_failure.tolist(), ], axis=0)\n",
    "    \n",
    "y_success = y_success.astype(np.int32)\n",
    "y_failure = y_failure.astype(np.int32)"
   ]
  },
  {
   "cell_type": "code",
   "execution_count": null,
   "metadata": {},
   "outputs": [],
   "source": [
    "# Sample a batch of successfully classified images\n",
    "for i in range(12):\n",
    "    plt.subplot(3, 4, i+1)\n",
    "    img = np.moveaxis(X_success[i, :, :, :], 0, -1)\n",
    "    plt.imshow(img[:,:,0])\n",
    "    plt.axis('off')\n",
    "    plt.title(rbc_class_names[y_success[i]])\n",
    "    plt.show()"
   ]
  },
  {
   "cell_type": "code",
   "execution_count": null,
   "metadata": {},
   "outputs": [],
   "source": [
    "# Sample a batch of incorrectly classified images\n",
    "plt.title('Failure Examples')\n",
    "for i in range(8):\n",
    "    plt.subplot(2, 4, i+1)\n",
    "    img = np.moveaxis(X_failure[i, :, :, :], 0, -1)\n",
    "    plt.imshow(img[:,:,0])\n",
    "    plt.axis('off')\n",
    "    plt.title(rbc_class_names[y_failure[i]])\n",
    "    plt.show()"
   ]
  },
  {
   "cell_type": "code",
   "execution_count": null,
   "metadata": {},
   "outputs": [],
   "source": []
  }
 ],
 "metadata": {
  "kernelspec": {
   "display_name": "Python 3",
   "language": "python",
   "name": "python3"
  },
  "language_info": {
   "codemirror_mode": {
    "name": "ipython",
    "version": 3
   },
   "file_extension": ".py",
   "mimetype": "text/x-python",
   "name": "python",
   "nbconvert_exporter": "python",
   "pygments_lexer": "ipython3",
   "version": "3.6.4"
  }
 },
 "nbformat": 4,
 "nbformat_minor": 2
}
