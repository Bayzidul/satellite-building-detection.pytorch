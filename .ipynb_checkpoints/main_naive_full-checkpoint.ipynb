{
 "cells": [
  {
   "cell_type": "markdown",
   "metadata": {},
   "source": [
    "# Residential Building Classification\n",
    "This is a bare-bone version of the residential vs. non-residential building classification. We use DenseNet in this implementation. "
   ]
  },
  {
   "cell_type": "code",
   "execution_count": 1,
   "metadata": {},
   "outputs": [],
   "source": [
    "import torch\n",
    "import torch.nn as nn\n",
    "import torch.optim as optim\n",
    "from torch.autograd import Variable\n",
    "from torch.utils.data import DataLoader\n",
    "from torch.utils.data import TensorDataset\n",
    "from torchvision import transforms\n",
    "\n",
    "import numpy as np\n",
    "import cv2\n",
    "import matplotlib.pyplot as plt\n",
    "\n",
    "from cs231n.data_utils import *\n",
    "from sampler import RandomSampler\n",
    "import params\n",
    "from densenet_efficient import DenseNetEfficient\n",
    "from demo import train\n",
    "from cs231n.dataset import *\n",
    "\n",
    "# Load parameters\n",
    "params = vars(params)\n",
    "rbc_class_names = params['rbc_class_names']\n",
    "fmow_class_names = params['fmow_class_names']\n",
    "fmow_class_names_mini = params['fmow_class_names_mini']\n",
    "dtype = params['dtype']\n",
    "\n",
    "torch.set_num_threads(params['num_threads'])"
   ]
  },
  {
   "cell_type": "markdown",
   "metadata": {},
   "source": [
    "## Preprocess FMOW Dataset\n",
    "Check if fMoW dataset is available. If so, process the images by cropping based on given bounding boxes. Load in traing, validation and test dataset along with ground truth labels for training and validation set. "
   ]
  },
  {
   "cell_type": "code",
   "execution_count": 11,
   "metadata": {},
   "outputs": [
    {
     "name": "stdout",
     "output_type": "stream",
     "text": [
      "<class 'torch.FloatTensor'> torch.Size([1, 224, 224]) <class 'torch.LongTensor'> torch.Size([1])\n"
     ]
    }
   ],
   "source": [
    "mean = 0.5\n",
    "stdv = 0.25\n",
    "valid_size = 100\n",
    "batch_size = 30\n",
    "num_epochs = 50\n",
    "learning_rate = 1e-4\n",
    "print_every = 10\n",
    "\n",
    "train_transforms = transforms.Compose([\n",
    "    Normalize(mean=mean, std=stdv),\n",
    "    Rescale((224,224)),\n",
    "    ToTensor(),\n",
    "])\n",
    "train_set = FMOWDataset(params, transform=train_transforms)\n",
    "x,y = train_set[0]\n",
    "print(type(x), x.shape, type(y), y.shape)\n",
    "\n",
    "indices = torch.randperm(len(train_set))\n",
    "len(train_set)\n",
    "train_indices = indices[:len(indices) - valid_size]\n",
    "train_sampler = torch.utils.data.sampler.SubsetRandomSampler(train_indices)\n",
    "valid_indices = indices[len(indices) - valid_size:]\n",
    "valid_sampler = torch.utils.data.sampler.SubsetRandomSampler(valid_indices)\n",
    "\n",
    "loader_train = torch.utils.data.DataLoader(train_set, batch_size=batch_size, sampler=train_sampler,\n",
    "                                                   pin_memory=(torch.cuda.is_available()), num_workers=0)\n",
    "loader_val = torch.utils.data.DataLoader(train_set, batch_size=batch_size, sampler=valid_sampler,\n",
    "                                                   pin_memory=(torch.cuda.is_available()), num_workers=0)"
   ]
  },
  {
   "cell_type": "markdown",
   "metadata": {},
   "source": [
    "### Visualize a small batch of data\n",
    "Plot a small batch of training images to get a sense of data"
   ]
  },
  {
   "cell_type": "code",
   "execution_count": 3,
   "metadata": {},
   "outputs": [
    {
     "ename": "NameError",
     "evalue": "name 'X_test' is not defined",
     "output_type": "error",
     "traceback": [
      "\u001b[0;31m---------------------------------------------------------------------------\u001b[0m",
      "\u001b[0;31mNameError\u001b[0m                                 Traceback (most recent call last)",
      "\u001b[0;32m<ipython-input-3-8d87e2dd816a>\u001b[0m in \u001b[0;36m<module>\u001b[0;34m()\u001b[0m\n\u001b[1;32m      1\u001b[0m \u001b[0;31m# Sample a minibatch and show the images and captions\u001b[0m\u001b[0;34m\u001b[0m\u001b[0;34m\u001b[0m\u001b[0m\n\u001b[1;32m      2\u001b[0m \u001b[0mmini_size\u001b[0m \u001b[0;34m=\u001b[0m \u001b[0;36m5\u001b[0m\u001b[0;34m\u001b[0m\u001b[0m\n\u001b[0;32m----> 3\u001b[0;31m \u001b[0mindices\u001b[0m \u001b[0;34m=\u001b[0m \u001b[0mnp\u001b[0m\u001b[0;34m.\u001b[0m\u001b[0mrandom\u001b[0m\u001b[0;34m.\u001b[0m\u001b[0mchoice\u001b[0m\u001b[0;34m(\u001b[0m\u001b[0mX_test\u001b[0m\u001b[0;34m.\u001b[0m\u001b[0mshape\u001b[0m\u001b[0;34m[\u001b[0m\u001b[0;36m0\u001b[0m\u001b[0;34m]\u001b[0m\u001b[0;34m,\u001b[0m \u001b[0mmini_size\u001b[0m\u001b[0;34m,\u001b[0m \u001b[0mreplace\u001b[0m\u001b[0;34m=\u001b[0m\u001b[0;32mFalse\u001b[0m\u001b[0;34m)\u001b[0m\u001b[0;34m\u001b[0m\u001b[0m\n\u001b[0m\u001b[1;32m      4\u001b[0m \u001b[0;32mfor\u001b[0m \u001b[0mi\u001b[0m\u001b[0;34m,\u001b[0m \u001b[0midx\u001b[0m \u001b[0;32min\u001b[0m \u001b[0menumerate\u001b[0m\u001b[0;34m(\u001b[0m\u001b[0mindices\u001b[0m\u001b[0;34m)\u001b[0m\u001b[0;34m:\u001b[0m\u001b[0;34m\u001b[0m\u001b[0m\n\u001b[1;32m      5\u001b[0m     \u001b[0mplt\u001b[0m\u001b[0;34m.\u001b[0m\u001b[0msubplot\u001b[0m\u001b[0;34m(\u001b[0m\u001b[0;36m1\u001b[0m\u001b[0;34m,\u001b[0m \u001b[0mmini_size\u001b[0m\u001b[0;34m,\u001b[0m \u001b[0mi\u001b[0m\u001b[0;34m+\u001b[0m\u001b[0;36m1\u001b[0m\u001b[0;34m)\u001b[0m\u001b[0;34m\u001b[0m\u001b[0m\n",
      "\u001b[0;31mNameError\u001b[0m: name 'X_test' is not defined"
     ]
    }
   ],
   "source": [
    "# Sample a minibatch and show the images and captions\n",
    "mini_size = 5\n",
    "indices = np.random.choice(X_test.shape[0], mini_size, replace=False)\n",
    "for i, idx in enumerate(indices):\n",
    "    plt.subplot(1, mini_size, i+1)\n",
    "    img = np.moveaxis(X_test[idx, :, :, :], 0, -1)\n",
    "    plt.imshow(img[:,:,0])\n",
    "    plt.axis('off')\n",
    "    plt.title(rbc_class_names[y_test[idx]])\n",
    "    plt.show()"
   ]
  },
  {
   "cell_type": "markdown",
   "metadata": {},
   "source": [
    "## Load Model\n",
    "Load in pre-trained DenseNet. Configure training parameters. "
   ]
  },
  {
   "cell_type": "markdown",
   "metadata": {},
   "source": [
    "### Naive two-layer CNN"
   ]
  },
  {
   "cell_type": "code",
   "execution_count": 12,
   "metadata": {},
   "outputs": [],
   "source": [
    "# CNN Model (3 conv layer)\n",
    "class CNN(nn.Module):\n",
    "    def __init__(self):\n",
    "        super(CNN, self).__init__()\n",
    "        self.layer1 = nn.Sequential(\n",
    "            nn.Conv2d(1, 16, kernel_size=6, stride=2, padding=1),\n",
    "            nn.BatchNorm2d(16),\n",
    "            nn.ReLU(),\n",
    "            nn.MaxPool2d(2))\n",
    "        self.layer2 = nn.Sequential(\n",
    "            nn.Conv2d(16, 32, kernel_size=5, stride=2, padding=1),\n",
    "            nn.BatchNorm2d(32),\n",
    "            nn.ReLU(),\n",
    "            nn.MaxPool2d(2))\n",
    "        self.fc = nn.Linear(13*13*32, len(rbc_class_names))\n",
    "        \n",
    "    def forward(self, x):\n",
    "        out = self.layer1(x)\n",
    "        out = self.layer2(out)\n",
    "        out = out.view(out.size(0), -1)\n",
    "        out = self.fc(out)\n",
    "        return out\n",
    "    \n",
    "#     224*224  \n",
    "#     55*55\n",
    "#     26*26\n",
    "#     13*13"
   ]
  },
  {
   "cell_type": "code",
   "execution_count": 13,
   "metadata": {},
   "outputs": [],
   "source": [
    "model = CNN().type(dtype)\n",
    "model = model.cuda()\n",
    "# model.load_state_dict(torch.load('cnn.pkl'))\n",
    "loss_fn = nn.CrossEntropyLoss().type(dtype)\n",
    "optimizer = optim.Adam(model.parameters(), lr=learning_rate)\n",
    "loss_history = []\n",
    "train_acc_history = []\n",
    "val_acc_history = []"
   ]
  },
  {
   "cell_type": "markdown",
   "metadata": {},
   "source": [
    "## Train Model\n",
    "Train the model one epoch at a time. Keep the verbose option on to monitor the loss during training. \n",
    "Save training and validation accuracy history for visualization. "
   ]
  },
  {
   "cell_type": "code",
   "execution_count": 14,
   "metadata": {},
   "outputs": [],
   "source": [
    "# Define Train function\n",
    "def train(model, loss_fn, optimizer, loader_train, loader_val, epochs=1):\n",
    "    for epoch in range(epochs):\n",
    "        # Set on Training mode\n",
    "        model.train()\n",
    "        for t, (x, y) in enumerate(loader_train):\n",
    "            x_var = Variable(x.type(dtype))\n",
    "            y_var = Variable(y.type(dtype).long())\n",
    "            scores = model(x_var)\n",
    "            loss = loss_fn(scores, y_var[:,0])\n",
    "            loss_history.append(loss.data[0])\n",
    "            if (t + 1) % print_every == 0:\n",
    "                print('t = %d, loss = %.4f' % (t + 1, loss.data[0]))\n",
    "            optimizer.zero_grad()\n",
    "            loss.backward()\n",
    "            optimizer.step()\n",
    "        train_acc_history.append(check_accuracy(model, loader_train))\n",
    "        val_acc_history.append(check_accuracy(model, loader_val))\n",
    "            \n",
    "def check_accuracy(model, loader, num_limit=100):\n",
    "    '''\n",
    "    Returns:\n",
    "    - acc: Scalar giving the fraction of instances that were correctly\n",
    "      classified by the model.\n",
    "    '''\n",
    "    num_correct = 0\n",
    "    num_samples = 0\n",
    "    # Put model in test mode\n",
    "    model.eval() \n",
    "    # Compute predictions in batches to save memory\n",
    "    for x, y in loader:\n",
    "        x_var = Variable(x.type(dtype), volatile=True) \n",
    "        scores = model(x_var)\n",
    "        _, preds = scores.data.cpu().max(1)\n",
    "        num_correct += (preds == y[:,0]).sum()\n",
    "        num_samples += preds.size(0)\n",
    "        if num_samples >= num_limit:\n",
    "            break\n",
    "    acc = float(num_correct) / num_samples\n",
    "    print('Got %d / %d correct (%.2f)' % (num_correct, num_samples, 100 * acc))\n",
    "    return acc\n",
    " "
   ]
  },
  {
   "cell_type": "code",
   "execution_count": 15,
   "metadata": {},
   "outputs": [
    {
     "name": "stdout",
     "output_type": "stream",
     "text": [
      "t = 10, loss = 0.4525\n",
      "Got 89 / 100 correct (89.00)\n",
      "Got 20 / 20 correct (100.00)\n",
      "t = 10, loss = 0.3094\n",
      "Got 91 / 100 correct (91.00)\n",
      "Got 20 / 20 correct (100.00)\n",
      "t = 10, loss = 0.9966\n",
      "Got 88 / 100 correct (88.00)\n",
      "Got 20 / 20 correct (100.00)\n",
      "t = 10, loss = 0.1136\n",
      "Got 90 / 100 correct (90.00)\n",
      "Got 20 / 20 correct (100.00)\n",
      "t = 10, loss = 0.2908\n",
      "Got 90 / 100 correct (90.00)\n",
      "Got 20 / 20 correct (100.00)\n",
      "t = 10, loss = 0.1793\n",
      "Got 95 / 100 correct (95.00)\n",
      "Got 20 / 20 correct (100.00)\n",
      "t = 10, loss = 0.2019\n",
      "Got 94 / 100 correct (94.00)\n",
      "Got 20 / 20 correct (100.00)\n",
      "t = 10, loss = 0.0363\n",
      "Got 97 / 100 correct (97.00)\n",
      "Got 20 / 20 correct (100.00)\n",
      "t = 10, loss = 0.0723\n",
      "Got 93 / 100 correct (93.00)\n",
      "Got 20 / 20 correct (100.00)\n",
      "t = 10, loss = 0.0975\n",
      "Got 96 / 100 correct (96.00)\n",
      "Got 20 / 20 correct (100.00)\n",
      "t = 10, loss = 0.0619\n",
      "Got 96 / 100 correct (96.00)\n",
      "Got 20 / 20 correct (100.00)\n",
      "t = 10, loss = 0.1852\n",
      "Got 98 / 100 correct (98.00)\n",
      "Got 20 / 20 correct (100.00)\n",
      "t = 10, loss = 0.0838\n",
      "Got 96 / 100 correct (96.00)\n",
      "Got 20 / 20 correct (100.00)\n",
      "t = 10, loss = 0.2255\n",
      "Got 97 / 100 correct (97.00)\n",
      "Got 20 / 20 correct (100.00)\n",
      "t = 10, loss = 0.1135\n",
      "Got 97 / 100 correct (97.00)\n",
      "Got 20 / 20 correct (100.00)\n",
      "t = 10, loss = 0.1095\n",
      "Got 100 / 100 correct (100.00)\n",
      "Got 20 / 20 correct (100.00)\n",
      "t = 10, loss = 0.1549\n",
      "Got 100 / 100 correct (100.00)\n",
      "Got 20 / 20 correct (100.00)\n",
      "t = 10, loss = 0.0430\n",
      "Got 99 / 100 correct (99.00)\n",
      "Got 20 / 20 correct (100.00)\n",
      "t = 10, loss = 0.0505\n",
      "Got 98 / 100 correct (98.00)\n",
      "Got 20 / 20 correct (100.00)\n",
      "t = 10, loss = 0.1083\n",
      "Got 99 / 100 correct (99.00)\n",
      "Got 20 / 20 correct (100.00)\n",
      "t = 10, loss = 0.0805\n",
      "Got 99 / 100 correct (99.00)\n",
      "Got 20 / 20 correct (100.00)\n",
      "t = 10, loss = 0.0926\n",
      "Got 100 / 100 correct (100.00)\n",
      "Got 20 / 20 correct (100.00)\n",
      "t = 10, loss = 0.0384\n",
      "Got 99 / 100 correct (99.00)\n",
      "Got 20 / 20 correct (100.00)\n",
      "t = 10, loss = 0.0795\n",
      "Got 99 / 100 correct (99.00)\n",
      "Got 20 / 20 correct (100.00)\n",
      "t = 10, loss = 0.0473\n",
      "Got 100 / 100 correct (100.00)\n",
      "Got 20 / 20 correct (100.00)\n",
      "t = 10, loss = 0.0248\n",
      "Got 100 / 100 correct (100.00)\n",
      "Got 20 / 20 correct (100.00)\n",
      "t = 10, loss = 0.0243\n",
      "Got 100 / 100 correct (100.00)\n",
      "Got 20 / 20 correct (100.00)\n",
      "t = 10, loss = 0.0309\n",
      "Got 100 / 100 correct (100.00)\n",
      "Got 20 / 20 correct (100.00)\n",
      "t = 10, loss = 0.0376\n",
      "Got 99 / 100 correct (99.00)\n",
      "Got 20 / 20 correct (100.00)\n",
      "t = 10, loss = 0.0283\n",
      "Got 100 / 100 correct (100.00)\n",
      "Got 20 / 20 correct (100.00)\n",
      "t = 10, loss = 0.0212\n",
      "Got 100 / 100 correct (100.00)\n",
      "Got 20 / 20 correct (100.00)\n",
      "t = 10, loss = 0.0604\n",
      "Got 100 / 100 correct (100.00)\n",
      "Got 20 / 20 correct (100.00)\n",
      "t = 10, loss = 0.0282\n",
      "Got 100 / 100 correct (100.00)\n",
      "Got 20 / 20 correct (100.00)\n",
      "t = 10, loss = 0.0329\n",
      "Got 100 / 100 correct (100.00)\n",
      "Got 20 / 20 correct (100.00)\n",
      "t = 10, loss = 0.0237\n",
      "Got 100 / 100 correct (100.00)\n",
      "Got 20 / 20 correct (100.00)\n",
      "t = 10, loss = 0.0067\n",
      "Got 100 / 100 correct (100.00)\n",
      "Got 20 / 20 correct (100.00)\n",
      "t = 10, loss = 0.0119\n",
      "Got 100 / 100 correct (100.00)\n",
      "Got 20 / 20 correct (100.00)\n",
      "t = 10, loss = 0.0098\n",
      "Got 100 / 100 correct (100.00)\n",
      "Got 20 / 20 correct (100.00)\n",
      "t = 10, loss = 0.0147\n",
      "Got 100 / 100 correct (100.00)\n",
      "Got 20 / 20 correct (100.00)\n",
      "t = 10, loss = 0.0149\n",
      "Got 100 / 100 correct (100.00)\n",
      "Got 20 / 20 correct (100.00)\n",
      "t = 10, loss = 0.0183\n",
      "Got 100 / 100 correct (100.00)\n",
      "Got 19 / 20 correct (95.00)\n",
      "t = 10, loss = 0.0161\n",
      "Got 100 / 100 correct (100.00)\n",
      "Got 20 / 20 correct (100.00)\n",
      "t = 10, loss = 0.0081\n",
      "Got 100 / 100 correct (100.00)\n",
      "Got 20 / 20 correct (100.00)\n",
      "t = 10, loss = 0.0125\n",
      "Got 100 / 100 correct (100.00)\n",
      "Got 20 / 20 correct (100.00)\n",
      "t = 10, loss = 0.0152\n",
      "Got 100 / 100 correct (100.00)\n",
      "Got 20 / 20 correct (100.00)\n",
      "t = 10, loss = 0.0200\n",
      "Got 100 / 100 correct (100.00)\n",
      "Got 20 / 20 correct (100.00)\n",
      "t = 10, loss = 0.0216\n",
      "Got 100 / 100 correct (100.00)\n",
      "Got 20 / 20 correct (100.00)\n",
      "t = 10, loss = 0.0101\n",
      "Got 100 / 100 correct (100.00)\n",
      "Got 20 / 20 correct (100.00)\n",
      "t = 10, loss = 0.0366\n",
      "Got 100 / 100 correct (100.00)\n",
      "Got 20 / 20 correct (100.00)\n",
      "t = 10, loss = 0.0096\n",
      "Got 100 / 100 correct (100.00)\n",
      "Got 20 / 20 correct (100.00)\n"
     ]
    }
   ],
   "source": [
    "# Train the model\n",
    "train(model, loss_fn, optimizer, loader_train, loader_val, epochs=num_epochs)"
   ]
  },
  {
   "cell_type": "markdown",
   "metadata": {},
   "source": [
    "## Visualization\n",
    "Visualize training and validation accuracy throughout training history. \n",
    "Visualize loss function. "
   ]
  },
  {
   "cell_type": "code",
   "execution_count": 16,
   "metadata": {},
   "outputs": [
    {
     "data": {
      "image/png": "[encoded data removed]",
      "text/plain": [
       "<Figure size 432x288 with 2 Axes>"
      ]
     },
     "metadata": {},
     "output_type": "display_data"
    }
   ],
   "source": [
    "# Visualize loss history and training/validation accuracy history\n",
    "plt.subplot(2, 1, 1)\n",
    "plt.plot(loss_history, 'o')\n",
    "plt.xlabel('iteration')\n",
    "plt.ylabel('loss')\n",
    "\n",
    "plt.subplot(2, 1, 2)\n",
    "plt.plot(train_acc_history, '-o')\n",
    "plt.plot(val_acc_history, '-o')\n",
    "plt.legend(['train', 'val'], loc='upper left')\n",
    "plt.xlabel('epoch')\n",
    "plt.ylabel('accuracy')\n",
    "plt.show()"
   ]
  },
  {
   "cell_type": "markdown",
   "metadata": {},
   "source": [
    "## Test Model\n",
    "Make predictions based on test dataset. Visually assess the quality of prediction and compute accuracy based on groundtruth. "
   ]
  },
  {
   "cell_type": "code",
   "execution_count": null,
   "metadata": {
    "scrolled": true
   },
   "outputs": [],
   "source": [
    "# Check accuracy of model on Test set\n",
    "test_acc = check_accuracy(model, loader_test)\n",
    "print(\"Test Accuracy: %.3f\" % test_acc)"
   ]
  },
  {
   "cell_type": "markdown",
   "metadata": {},
   "source": [
    "### Visualize Successful and Failed Examples"
   ]
  },
  {
   "cell_type": "code",
   "execution_count": null,
   "metadata": {},
   "outputs": [],
   "source": [
    "x = np.array([[1,2],[2,3],[3,4]])\n",
    "mask = [False,False,True]\n",
    "print(x)"
   ]
  },
  {
   "cell_type": "code",
   "execution_count": null,
   "metadata": {},
   "outputs": [],
   "source": [
    "X_success = np.array([]).reshape((0, 1, 200, 200))\n",
    "y_success = np.array([]).reshape((0,))\n",
    "X_failure = np.array([]).reshape((0, 1, 200, 200))\n",
    "y_failure = np.array([]).reshape((0,))\n",
    "\n",
    "model.eval() \n",
    "for X, y in loader_test:\n",
    "    X_var = Variable(X.type(dtype), volatile=True)\n",
    "    scores = model(X_var)\n",
    "    _, preds = scores.data.cpu().max(1)\n",
    "    idx_success = (preds == y).numpy() == 1\n",
    "    idx_failure = (preds != y).numpy() == 1\n",
    "    X = X.numpy()\n",
    "    y = y.numpy()\n",
    "    X_success = np.append(X_success, X[idx_success.tolist(), :, :, :], axis=0)\n",
    "    y_success = np.append(y_success, y[idx_success.tolist(), ], axis=0)\n",
    "    X_failure = np.append(X_failure, X[idx_failure.tolist(), :, :, :], axis=0)\n",
    "    y_failure = np.append(y_failure, preds[idx_failure.tolist(), ], axis=0)\n",
    "    \n",
    "y_success = y_success.astype(np.int32)\n",
    "y_failure = y_failure.astype(np.int32)"
   ]
  },
  {
   "cell_type": "code",
   "execution_count": null,
   "metadata": {},
   "outputs": [],
   "source": [
    "# Sample a batch of successfully classified images\n",
    "for i in range(12):\n",
    "    plt.subplot(3, 4, i+1)\n",
    "    img = np.moveaxis(X_success[i, :, :, :], 0, -1)\n",
    "    plt.imshow(img[:,:,0])\n",
    "    plt.axis('off')\n",
    "    plt.title(rbc_class_names[y_success[i]])\n",
    "    plt.show()"
   ]
  },
  {
   "cell_type": "code",
   "execution_count": null,
   "metadata": {},
   "outputs": [],
   "source": [
    "# Sample a batch of incorrectly classified images\n",
    "plt.title('Failure Examples')\n",
    "for i in range(8):\n",
    "    plt.subplot(2, 4, i+1)\n",
    "    img = np.moveaxis(X_failure[i, :, :, :], 0, -1)\n",
    "    plt.imshow(img[:,:,0])\n",
    "    plt.axis('off')\n",
    "    plt.title(rbc_class_names[y_failure[i]])\n",
    "    plt.show()"
   ]
  },
  {
   "cell_type": "markdown",
   "metadata": {},
   "source": [
    "## Save Model"
   ]
  },
  {
   "cell_type": "code",
   "execution_count": null,
   "metadata": {},
   "outputs": [],
   "source": [
    "# Save the Trained Model\n",
    "torch.save(model.state_dict(), 'cnn.pkl')"
   ]
  },
  {
   "cell_type": "code",
   "execution_count": null,
   "metadata": {},
   "outputs": [],
   "source": []
  }
 ],
 "metadata": {
  "kernelspec": {
   "display_name": "Python 3",
   "language": "python",
   "name": "python3"
  },
  "language_info": {
   "codemirror_mode": {
    "name": "ipython",
    "version": 3
   },
   "file_extension": ".py",
   "mimetype": "text/x-python",
   "name": "python",
   "nbconvert_exporter": "python",
   "pygments_lexer": "ipython3",
   "version": "3.6.4"
  }
 },
 "nbformat": 4,
 "nbformat_minor": 2
}
